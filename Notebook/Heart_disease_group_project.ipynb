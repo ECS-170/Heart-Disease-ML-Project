{
 "cells": [
  {
   "cell_type": "code",
   "execution_count": 19,
   "id": "066453c4",
   "metadata": {},
   "outputs": [],
   "source": [
    "# All project imports\n",
    "import matplotlib.pyplot as plt\n",
    "import numpy as np\n",
    "import pandas as pd\n",
    "from imblearn.over_sampling import RandomOverSampler\n",
    "from sklearn.preprocessing import OrdinalEncoder \n",
    "from sklearn.preprocessing import OneHotEncoder\n",
    "from sklearn.preprocessing import minmax_scale\n",
    "from sklearn.model_selection import train_test_split\n",
    "from sklearn.model_selection import GridSearchCV\n",
    "from sklearn.metrics import ConfusionMatrixDisplay\n",
    "from sklearn.metrics import accuracy_score\n",
    "from sklearn.metrics import f1_score\n",
    "from sklearn.metrics import precision_score\n",
    "from sklearn.metrics import recall_score\n",
    "from sklearn.linear_model import LogisticRegression\n",
    "from sklearn.neighbors import KNeighborsClassifier\n",
    "from sklearn.naive_bayes import BernoulliNB\n",
    "from sklearn.naive_bayes import ComplementNB\n",
    "from sklearn.svm import LinearSVC\n",
    "from sklearn.tree import DecisionTreeClassifier\n",
    "from sklearn.ensemble import RandomForestClassifier"
   ]
  },
  {
   "cell_type": "code",
   "execution_count": 2,
   "id": "b200e395",
   "metadata": {},
   "outputs": [
    {
     "name": "stdout",
     "output_type": "stream",
     "text": [
      "HeartDisease ->  ['No' 'Yes']\n",
      "BMI ->  [16.6  20.34 26.58 ... 62.42 51.46 46.56]\n",
      "Smoking ->  ['Yes' 'No']\n",
      "AlcoholDrinking ->  ['No' 'Yes']\n",
      "Stroke ->  ['No' 'Yes']\n",
      "DiffWalking ->  ['No' 'Yes']\n",
      "Sex ->  ['Female' 'Male']\n",
      "AgeCategory ->  ['55-59' '80 or older' '65-69' '75-79' '40-44' '70-74' '60-64' '50-54'\n",
      " '45-49' '18-24' '35-39' '30-34' '25-29']\n",
      "Race ->  ['White' 'Black' 'Asian' 'American Indian/Alaskan Native' 'Other'\n",
      " 'Hispanic']\n",
      "Diabetic ->  ['Yes' 'No' 'No, borderline diabetes' 'Yes (during pregnancy)']\n",
      "PhysicalActivity ->  ['Yes' 'No']\n",
      "GenHealth ->  ['Very good' 'Fair' 'Good' 'Poor' 'Excellent']\n",
      "Asthma ->  ['Yes' 'No']\n",
      "KidneyDisease ->  ['No' 'Yes']\n",
      "SkinCancer ->  ['Yes' 'No']\n"
     ]
    }
   ],
   "source": [
    "# Load the dataset\n",
    "df = pd.read_csv(\"../Raw_data/heart_2020.csv\")\n",
    "# Drop columns that are not important to the dataset\n",
    "df.drop(columns=[\"PhysicalHealth\", \"MentalHealth\", \"SleepTime\"], inplace=True)\n",
    "# Print the name of each column, as well as the unique values found in each column\n",
    "for column in df:\n",
    "    print(\"%s -> \" % column, df[column].unique())"
   ]
  },
  {
   "cell_type": "markdown",
   "id": "ee4b9fd4",
   "metadata": {},
   "source": [
    "One-Hot-Encoding Step"
   ]
  },
  {
   "cell_type": "code",
   "execution_count": 3,
   "id": "f5bdd72f",
   "metadata": {},
   "outputs": [
    {
     "name": "stdout",
     "output_type": "stream",
     "text": [
      "['HeartDisease_Yes' 'Smoking_Yes' 'AlcoholDrinking_Yes' 'Stroke_Yes'\n",
      " 'DiffWalking_Yes' 'Sex_Male' 'Race_American Indian/Alaskan Native'\n",
      " 'Race_Asian' 'Race_Black' 'Race_Hispanic' 'Race_Other' 'Race_White'\n",
      " 'Diabetic_No' 'Diabetic_No, borderline diabetes' 'Diabetic_Yes'\n",
      " 'Diabetic_Yes (during pregnancy)' 'PhysicalActivity_Yes' 'Asthma_Yes'\n",
      " 'KidneyDisease_Yes' 'SkinCancer_Yes']\n",
      "    BMI AgeCategory  GenHealth  HeartDisease_Yes  Smoking_Yes  \\\n",
      "0  16.6       55-59  Very good               0.0          1.0   \n",
      "\n",
      "   AlcoholDrinking_Yes  Stroke_Yes  DiffWalking_Yes  Sex_Male  \\\n",
      "0                  0.0         0.0              0.0       0.0   \n",
      "\n",
      "   Race_American Indian/Alaskan Native  ...  Race_Other  Race_White  \\\n",
      "0                                  0.0  ...         0.0         1.0   \n",
      "\n",
      "   Diabetic_No  Diabetic_No, borderline diabetes  Diabetic_Yes  \\\n",
      "0          0.0                               0.0           1.0   \n",
      "\n",
      "   Diabetic_Yes (during pregnancy)  PhysicalActivity_Yes  Asthma_Yes  \\\n",
      "0                              0.0                   1.0         1.0   \n",
      "\n",
      "   KidneyDisease_Yes  SkinCancer_Yes  \n",
      "0                0.0             1.0  \n",
      "\n",
      "[1 rows x 23 columns]\n"
     ]
    }
   ],
   "source": [
    "# One-hot encode categorical attributes in the dataset\n",
    "\n",
    "# List of all attribute that we wish to one-hot encode or binary encode\n",
    "categorical_attributes = [\"HeartDisease\", \"Smoking\", \"AlcoholDrinking\", \"Stroke\", \"DiffWalking\", \"Sex\", \"Race\", \"Diabetic\", \"PhysicalActivity\", \"Asthma\", \"KidneyDisease\", \"SkinCancer\"]\n",
    "# If an attribute has only two categories, only create one new attribute when encoding it.\n",
    "# Normally, one-hot encoding would create two new attributes for binary categories.\n",
    "encoder = OneHotEncoder(drop=\"if_binary\")\n",
    "# Generate an encoding scheme for the specified columns\n",
    "encoder.fit(df[categorical_attributes])\n",
    "# Print the names of all the new attributes created by the one-hot encoder\n",
    "print(encoder.get_feature_names_out(categorical_attributes))\n",
    "# Replace the categorical columns in the DataFrame with the new, one-hot encoded columns\n",
    "encoded_df = pd.DataFrame(encoder.transform(df[categorical_attributes]).toarray(), columns=encoder.get_feature_names_out(categorical_attributes))\n",
    "df = df.drop(columns=categorical_attributes).join(encoded_df)\n",
    "print(df.head(1))"
   ]
  },
  {
   "cell_type": "markdown",
   "id": "3bb79845",
   "metadata": {},
   "source": [
    "Ordinal Encoding Step"
   ]
  },
  {
   "cell_type": "code",
   "execution_count": 4,
   "id": "d014fddb",
   "metadata": {},
   "outputs": [
    {
     "name": "stdout",
     "output_type": "stream",
     "text": [
      "    BMI  HeartDisease_Yes  Smoking_Yes  AlcoholDrinking_Yes  Stroke_Yes  \\\n",
      "0  16.6               0.0          1.0                  0.0         0.0   \n",
      "\n",
      "   DiffWalking_Yes  Sex_Male  Race_American Indian/Alaskan Native  Race_Asian  \\\n",
      "0              0.0       0.0                                  0.0         0.0   \n",
      "\n",
      "   Race_Black  ...  Diabetic_No  Diabetic_No, borderline diabetes  \\\n",
      "0         0.0  ...          0.0                               0.0   \n",
      "\n",
      "   Diabetic_Yes  Diabetic_Yes (during pregnancy)  PhysicalActivity_Yes  \\\n",
      "0           1.0                              0.0                   1.0   \n",
      "\n",
      "   Asthma_Yes  KidneyDisease_Yes  SkinCancer_Yes  AgeCategory_Ordinal  \\\n",
      "0         1.0                0.0             1.0                  7.0   \n",
      "\n",
      "   GenHealth_Ordinal  \n",
      "0                3.0  \n",
      "\n",
      "[1 rows x 23 columns]\n"
     ]
    }
   ],
   "source": [
    "# Encode categorical attributes that have a logical ordering. Since such an ordering exists,\n",
    "# we can avoid creating extraneous columns by assigning a number to each category, rather than\n",
    "# trying to use a one-hot encoding scheme for them.\n",
    "\n",
    "# There are only two categorical attributes which have a logical ordering\n",
    "categorical_attributes = [\"AgeCategory\", \"GenHealth\"]\n",
    "# List the possible categories for each attribute in their logical order\n",
    "age_categories = [\"18-24\", \"25-29\", \"30-34\", \"35-39\", \"40-44\", \"45-49\", \"50-54\", \"55-59\", \"60-64\", \"65-69\", \"70-74\", \"75-79\", \"80 or older\"]\n",
    "health_categories = [\"Poor\", \"Fair\", \"Good\", \"Very good\", \"Excellent\"]\n",
    "# Create the ordinal encoder and generate the encoding scheme for our DataFrame\n",
    "encoder = OrdinalEncoder(categories=[age_categories, health_categories])\n",
    "encoder.fit(df[categorical_attributes])\n",
    "# Replace the categorical columns in the DataFrame with the new, ordinal-encoded columns\n",
    "encoded_df = pd.DataFrame(encoder.transform(df[categorical_attributes]), columns=[\"AgeCategory_Ordinal\", \"GenHealth_Ordinal\"])\n",
    "df = df.drop(columns=categorical_attributes).join(encoded_df)\n",
    "print(df.head(1))"
   ]
  },
  {
   "cell_type": "markdown",
   "id": "20974893",
   "metadata": {},
   "source": [
    "Standardize BMI column using min-max scaling. Only one column affected."
   ]
  },
  {
   "cell_type": "code",
   "execution_count": 5,
   "id": "2f1c10e6",
   "metadata": {},
   "outputs": [
    {
     "name": "stdout",
     "output_type": "stream",
     "text": [
      "        BMI  HeartDisease_Yes  Smoking_Yes  AlcoholDrinking_Yes  Stroke_Yes  \\\n",
      "0  0.055294               0.0          1.0                  0.0         0.0   \n",
      "\n",
      "   DiffWalking_Yes  Sex_Male  Race_American Indian/Alaskan Native  Race_Asian  \\\n",
      "0              0.0       0.0                                  0.0         0.0   \n",
      "\n",
      "   Race_Black  ...  Diabetic_No  Diabetic_No, borderline diabetes  \\\n",
      "0         0.0  ...          0.0                               0.0   \n",
      "\n",
      "   Diabetic_Yes  Diabetic_Yes (during pregnancy)  PhysicalActivity_Yes  \\\n",
      "0           1.0                              0.0                   1.0   \n",
      "\n",
      "   Asthma_Yes  KidneyDisease_Yes  SkinCancer_Yes  AgeCategory_Ordinal  \\\n",
      "0         1.0                0.0             1.0                  7.0   \n",
      "\n",
      "   GenHealth_Ordinal  \n",
      "0                3.0  \n",
      "\n",
      "[1 rows x 23 columns]\n"
     ]
    }
   ],
   "source": [
    "df[['BMI']] = minmax_scale(df[['BMI']])\n",
    "print(df.head(1))"
   ]
  },
  {
   "cell_type": "markdown",
   "id": "2674bc39",
   "metadata": {},
   "source": [
    "Split the Data"
   ]
  },
  {
   "cell_type": "code",
   "execution_count": 6,
   "id": "32deaffb",
   "metadata": {},
   "outputs": [],
   "source": [
    "# Separate the data into input (X) and output (y)\n",
    "X = df.drop(columns=\"HeartDisease_Yes\")\n",
    "y = df[\"HeartDisease_Yes\"]\n",
    "# Further split the data into training sets and testing sets with a 90:10 ratio\n",
    "X_train, X_test, y_train, y_test = train_test_split(X, y, test_size=0.1, random_state=0)"
   ]
  },
  {
   "cell_type": "markdown",
   "id": "f23459e9",
   "metadata": {},
   "source": [
    "## Model 1: K-Nearest Neighbors"
   ]
  },
  {
   "cell_type": "code",
   "execution_count": 35,
   "id": "bcf96d0c",
   "metadata": {},
   "outputs": [],
   "source": [
    "# We begin our exploration of simple models by looking at perhaps the most\n",
    "# straightforward classification technique: k-nearest neighbors. With this\n",
    "# method, we treat each sample in our training set as a vector in an\n",
    "# n-dimensional space, where n is the number of attributes in the dataset.\n",
    "# When predicting the label of a test sample, we simply find the k training\n",
    "# samples closest in n-dimensional space to said test sample, and let those\n",
    "# neighbors vote on what the classification should be based on their\n",
    "# own known labels.\n",
    "\n",
    "# Since k (the number of closest neighbors to consider) is a hyperparameter\n",
    "# of our model that can affect performance, we should experiment with different\n",
    "# values of k to find the best-performing one. To accomplish this, we will perform\n",
    "# a manual grid search over a few values of k, and we'll keep the model with\n",
    "# highest f1 score; we value f1 score because we seek to reduce the number of\n",
    "# false negatives and false positives as much as possible, especially with the \n",
    "# medical nature of our project.\n",
    "\n",
    "# We opt to perform a manual grid search rather than use scikit-learn's\n",
    "# GridSearchCV simply for the sake of saving on computation time. K-nearest\n",
    "# neighbors is quite computationally expensive at prediction time (especially\n",
    "# with a dataset as immense as ours), so the cross-validation that GridSearchCV\n",
    "# performs when evaluating models would take an impractical amount of time\n",
    "# to finish running.\n",
    "\n",
    "# The best-performing model from our grid search will be stored here\n",
    "tuned_neighbors_model = None\n",
    "# The predictions from the best-performing model will be stored here\n",
    "y_pred_neighbors = None\n",
    "# Keep track of the highest f1 score we've observed thus far\n",
    "highest_neighbors_score = -1\n",
    "# Keep track of the f1 scores for all models\n",
    "f1_scores = []\n",
    "# Define the values of k that we should test. The default number of neighbors\n",
    "# is 5, so we'll try that along with a smaller value and a larger value.\n",
    "k_values = [1, 5, 9]\n",
    "\n",
    "# Test one model with each value of k\n",
    "for k in k_values:\n",
    "    # Create the model and fit it to our training data\n",
    "    neighbors_model = KNeighborsClassifier(n_neighbors=k)\n",
    "    neighbors_model.fit(X_train, y_train)\n",
    "    # Use the model to predict labels for our test set\n",
    "    y_pred = neighbors_model.predict(X_test)\n",
    "    # Calculate and save the model's f1 score\n",
    "    score = f1_score(y_true=y_test, y_pred=y_pred)\n",
    "    f1_scores.append(score)\n",
    "    # If this model has the highest f1 score we've seen so far, save both\n",
    "    # it and its predicted labels\n",
    "    if score > highest_neighbors_score:\n",
    "        highest_neighbors_score = score\n",
    "        tuned_neighbors_model = neighbors_model\n",
    "        y_pred_neighbors = y_pred"
   ]
  },
  {
   "cell_type": "code",
   "execution_count": 49,
   "id": "de2a0db1",
   "metadata": {},
   "outputs": [
    {
     "name": "stdout",
     "output_type": "stream",
     "text": [
      "Best hyperparmater (k):  1\n",
      "Test f1 score: 0.231836\n",
      "Test precision: 0.232771\n",
      "Test recall: 0.230909\n",
      "Test accuracy: 0.868418\n"
     ]
    },
    {
     "data": {
      "image/png": "[encoded data removed]",
      "text/plain": [
       "<Figure size 432x288 with 2 Axes>"
      ]
     },
     "metadata": {
      "needs_background": "light"
     },
     "output_type": "display_data"
    }
   ],
   "source": [
    "# Print the k value that resulted in the best-performing model\n",
    "print(\"Best hyperparmater (k): \", k_values[np.argmax(f1_scores)])\n",
    "# Print the model's f1 score, precision, recall, and accuracy on the test set\n",
    "print(\"Test f1 score: %f\" % f1_score(y_true=y_test, y_pred=y_pred_neighbors))\n",
    "print(\"Test precision: %f\" % precision_score(y_true=y_test, y_pred=y_pred_neighbors))\n",
    "print(\"Test recall: %f\" % recall_score(y_true=y_test, y_pred=y_pred_neighbors))\n",
    "print(\"Test accuracy: %f\" % accuracy_score(y_true=y_test, y_pred=y_pred_neighbors))\n",
    "# Plot the confusion matrix for the test predictions\n",
    "ConfusionMatrixDisplay.from_predictions(y_test, y_pred_neighbors)\n",
    "plt.show()"
   ]
  },
  {
   "cell_type": "markdown",
   "id": "962b7588",
   "metadata": {},
   "source": [
    "## Oversampling Our Dataset"
   ]
  },
  {
   "cell_type": "code",
   "execution_count": 7,
   "id": "47bf06cc",
   "metadata": {},
   "outputs": [
    {
     "data": {
      "text/plain": [
       "0.0    263192\n",
       "1.0     24623\n",
       "Name: HeartDisease_Yes, dtype: int64"
      ]
     },
     "execution_count": 7,
     "metadata": {},
     "output_type": "execute_result"
    }
   ],
   "source": [
    "# Before moving forward with more models, we must address one more issue with our\n",
    "# dataset that might affect certain models' performance: imbalance. As large as\n",
    "# our dataset is, it might not present an even distribution of the target attribute\n",
    "# that we wish to predict (i.e., whether or not a person has heart disease). To\n",
    "# check this distribution, we can print out a count of how many people (samples)\n",
    "# in our training set have heart disease, and how many don't.\n",
    "y_train.value_counts()"
   ]
  },
  {
   "cell_type": "code",
   "execution_count": 8,
   "id": "e44d4873",
   "metadata": {},
   "outputs": [
    {
     "data": {
      "text/plain": [
       "0.0    263192\n",
       "1.0    263192\n",
       "Name: HeartDisease_Yes, dtype: int64"
      ]
     },
     "execution_count": 8,
     "metadata": {},
     "output_type": "execute_result"
    }
   ],
   "source": [
    "# As seen in the above cell, our data is heavily imbalanced with respect to\n",
    "# our target attribute; the split is on the order of 10:1. This may pose a\n",
    "# problem for some of the classification models we wish to try out. In\n",
    "# particular, any model which seeks to minimize the total classification\n",
    "# error over all samples may suffer greatly from this data imbalance. Since\n",
    "# the vast majority of samples do not have heart disease, these types of\n",
    "# classification models will heavily value the correct classification of\n",
    "# people who don't have heart disease, and will severely undervalue the\n",
    "# correct classification of people who do have heart disease.\n",
    "\n",
    "# Obviously, with our desire to maximize the f1 score of our final\n",
    "# classification model (and, of course, with our desire to correctly\n",
    "# warn as many people as possible that they have heart disease), the\n",
    "# bias in our dataset is far from desirable. As such, we will take\n",
    "# corrective action and perform some oversampling on our training data.\n",
    "\n",
    "# In particular, we will use random oversampling to balance out our\n",
    "# dataset. During the oversampling process, the original training data\n",
    "# is augmented with extra samples of people with heart disease (which\n",
    "# are randomly drawn duplicates of already existing training samples).\n",
    "# The training data is agumented with these extra samples until the number\n",
    "# of samples with heart disease is equal to the number of samples without.\n",
    "# This way, we'll have a perfectly even distribution of our target\n",
    "# attribute when training future models.\n",
    "over_sampler = RandomOverSampler(random_state=0)\n",
    "X_train_oversampled, y_train_oversampled = over_sampler.fit_resample(X_train, y_train)\n",
    "y_train_oversampled.value_counts()"
   ]
  },
  {
   "cell_type": "markdown",
   "id": "0959a448",
   "metadata": {},
   "source": [
    "## Model 2: Logistic Regression"
   ]
  },
  {
   "cell_type": "code",
   "execution_count": 50,
   "id": "0247384e",
   "metadata": {},
   "outputs": [
    {
     "name": "stdout",
     "output_type": "stream",
     "text": [
      "Test f1 score: 0.174309\n",
      "Test precision: 0.528545\n",
      "Test recall: 0.104364\n",
      "Test accuracy: 0.914978\n"
     ]
    },
    {
     "data": {
      "image/png": "[encoded data removed]",
      "text/plain": [
       "<Figure size 432x288 with 2 Axes>"
      ]
     },
     "metadata": {
      "needs_background": "light"
     },
     "output_type": "display_data"
    }
   ],
   "source": [
    "# Next, we'll try a model with a slightly more advanced formulation:\n",
    "# logistic regression. The predictor works by taking a weighted sum\n",
    "# (i.e., some linear combination) of a sample's attributes and feeding\n",
    "# that sum into the sigmoid function. The sample is labeled positive or\n",
    "# negative based on whether the sigmoid output is above or below some \n",
    "# threshold. The weights (for the weighted sum) are optimized such that\n",
    "# the classification error is minimized over the training set.\n",
    "\n",
    "# To begin with, we can attempt to train a logistic regression model\n",
    "# (with mostly default hyperparameters) on our original training set,\n",
    "# to see what kind of results we can get with our imbalanced data.\n",
    "\n",
    "# Instantiate a logistic regression model from scikit-learn\n",
    "logistic_model = LogisticRegression(max_iter=1000)\n",
    "# Tune the weights of the model using our original training data\n",
    "logistic_model.fit(X_train, y_train)\n",
    "# Use the trained model to predict labels for our test set\n",
    "y_pred = logistic_model.predict(X_test)\n",
    "# Print out the model's performance statistics on the test set\n",
    "print(\"Test f1 score: %f\" % f1_score(y_true=y_test, y_pred=y_pred))\n",
    "print(\"Test precision: %f\" % precision_score(y_true=y_test, y_pred=y_pred))\n",
    "print(\"Test recall: %f\" % recall_score(y_true=y_test, y_pred=y_pred))\n",
    "print(\"Test accuracy: %f\" % accuracy_score(y_true=y_test, y_pred=y_pred))\n",
    "# Display the confusion matrix on the test set\n",
    "ConfusionMatrixDisplay.from_predictions(y_test, y_pred)\n",
    "plt.show()"
   ]
  },
  {
   "cell_type": "code",
   "execution_count": 51,
   "id": "0247384e",
   "metadata": {},
   "outputs": [
    {
     "name": "stdout",
     "output_type": "stream",
     "text": [
      "Test f1 score: 0.349919\n",
      "Test precision: 0.225340\n",
      "Test recall: 0.782545\n",
      "Test accuracy: 0.749969\n"
     ]
    },
    {
     "data": {
      "image/png": "[encoded data removed]",
      "text/plain": [
       "<Figure size 432x288 with 2 Axes>"
      ]
     },
     "metadata": {
      "needs_background": "light"
     },
     "output_type": "display_data"
    }
   ],
   "source": [
    "# As seen in the above cell, the logistic regression model trained\n",
    "# on the original data obtains an f1 score that is lower than that\n",
    "# of the k-nearest neighbors model. Contributing most to this is\n",
    "# the recall, which is less than half of k-nearest neighbors. A\n",
    "# low recall is certainly not desirable for our final model, because\n",
    "# that would mean that the model produces a lot of false negatives.\n",
    "# A false negative, for our purposes, means that a person is told\n",
    "# that they do not have heart disease, when they in fact do have it.\n",
    "\n",
    "# To try and remedy this low f1 score and particularly low recall,\n",
    "# we can train another logistic regression model (again, with nearly\n",
    "# default hyperparameters) on our oversampled training data. This \n",
    "# will give the model a larger proportion of samples with heart\n",
    "# disease to train on, so that it is forced to value the correct\n",
    "# classification of positive samples more strongly.\n",
    "logistic_model = LogisticRegression(max_iter=1000)\n",
    "logistic_model.fit(X_train_oversampled, y_train_oversampled)\n",
    "y_pred = logistic_model.predict(X_test)\n",
    "print(\"Test f1 score: %f\" % f1_score(y_true=y_test, y_pred=y_pred))\n",
    "print(\"Test precision: %f\" % precision_score(y_true=y_test, y_pred=y_pred))\n",
    "print(\"Test recall: %f\" % recall_score(y_true=y_test, y_pred=y_pred))\n",
    "print(\"Test accuracy: %f\" % accuracy_score(y_true=y_test, y_pred=y_pred))\n",
    "ConfusionMatrixDisplay.from_predictions(y_test, y_pred)\n",
    "plt.show()"
   ]
  },
  {
   "cell_type": "code",
   "execution_count": 10,
   "id": "98bedbb5",
   "metadata": {},
   "outputs": [
    {
     "data": {
      "text/html": [
       "<style>#sk-container-id-1 {color: black;background-color: white;}#sk-container-id-1 pre{padding: 0;}#sk-container-id-1 div.sk-toggleable {background-color: white;}#sk-container-id-1 label.sk-toggleable__label {cursor: pointer;display: block;width: 100%;margin-bottom: 0;padding: 0.3em;box-sizing: border-box;text-align: center;}#sk-container-id-1 label.sk-toggleable__label-arrow:before {content: \"▸\";float: left;margin-right: 0.25em;color: #696969;}#sk-container-id-1 label.sk-toggleable__label-arrow:hover:before {color: black;}#sk-container-id-1 div.sk-estimator:hover label.sk-toggleable__label-arrow:before {color: black;}#sk-container-id-1 div.sk-toggleable__content {max-height: 0;max-width: 0;overflow: hidden;text-align: left;background-color: #f0f8ff;}#sk-container-id-1 div.sk-toggleable__content pre {margin: 0.2em;color: black;border-radius: 0.25em;background-color: #f0f8ff;}#sk-container-id-1 input.sk-toggleable__control:checked~div.sk-toggleable__content {max-height: 200px;max-width: 100%;overflow: auto;}#sk-container-id-1 input.sk-toggleable__control:checked~label.sk-toggleable__label-arrow:before {content: \"▾\";}#sk-container-id-1 div.sk-estimator input.sk-toggleable__control:checked~label.sk-toggleable__label {background-color: #d4ebff;}#sk-container-id-1 div.sk-label input.sk-toggleable__control:checked~label.sk-toggleable__label {background-color: #d4ebff;}#sk-container-id-1 input.sk-hidden--visually {border: 0;clip: rect(1px 1px 1px 1px);clip: rect(1px, 1px, 1px, 1px);height: 1px;margin: -1px;overflow: hidden;padding: 0;position: absolute;width: 1px;}#sk-container-id-1 div.sk-estimator {font-family: monospace;background-color: #f0f8ff;border: 1px dotted black;border-radius: 0.25em;box-sizing: border-box;margin-bottom: 0.5em;}#sk-container-id-1 div.sk-estimator:hover {background-color: #d4ebff;}#sk-container-id-1 div.sk-parallel-item::after {content: \"\";width: 100%;border-bottom: 1px solid gray;flex-grow: 1;}#sk-container-id-1 div.sk-label:hover label.sk-toggleable__label {background-color: #d4ebff;}#sk-container-id-1 div.sk-serial::before {content: \"\";position: absolute;border-left: 1px solid gray;box-sizing: border-box;top: 0;bottom: 0;left: 50%;z-index: 0;}#sk-container-id-1 div.sk-serial {display: flex;flex-direction: column;align-items: center;background-color: white;padding-right: 0.2em;padding-left: 0.2em;position: relative;}#sk-container-id-1 div.sk-item {position: relative;z-index: 1;}#sk-container-id-1 div.sk-parallel {display: flex;align-items: stretch;justify-content: center;background-color: white;position: relative;}#sk-container-id-1 div.sk-item::before, #sk-container-id-1 div.sk-parallel-item::before {content: \"\";position: absolute;border-left: 1px solid gray;box-sizing: border-box;top: 0;bottom: 0;left: 50%;z-index: -1;}#sk-container-id-1 div.sk-parallel-item {display: flex;flex-direction: column;z-index: 1;position: relative;background-color: white;}#sk-container-id-1 div.sk-parallel-item:first-child::after {align-self: flex-end;width: 50%;}#sk-container-id-1 div.sk-parallel-item:last-child::after {align-self: flex-start;width: 50%;}#sk-container-id-1 div.sk-parallel-item:only-child::after {width: 0;}#sk-container-id-1 div.sk-dashed-wrapped {border: 1px dashed gray;margin: 0 0.4em 0.5em 0.4em;box-sizing: border-box;padding-bottom: 0.4em;background-color: white;}#sk-container-id-1 div.sk-label label {font-family: monospace;font-weight: bold;display: inline-block;line-height: 1.2em;}#sk-container-id-1 div.sk-label-container {text-align: center;}#sk-container-id-1 div.sk-container {/* jupyter's `normalize.less` sets `[hidden] { display: none; }` but bootstrap.min.css set `[hidden] { display: none !important; }` so we also need the `!important` here to be able to override the default hidden behavior on the sphinx rendered scikit-learn.org. See: https://github.com/scikit-learn/scikit-learn/issues/21755 */display: inline-block !important;position: relative;}#sk-container-id-1 div.sk-text-repr-fallback {display: none;}</style><div id=\"sk-container-id-1\" class=\"sk-top-container\"><div class=\"sk-text-repr-fallback\"><pre>GridSearchCV(estimator=LogisticRegression(max_iter=1000), n_jobs=-1,\n",
       "             param_grid=[{&#x27;C&#x27;: [0.1, 1.0, 100.0], &#x27;penalty&#x27;: [&#x27;l1&#x27;],\n",
       "                          &#x27;solver&#x27;: [&#x27;liblinear&#x27;, &#x27;saga&#x27;]},\n",
       "                         {&#x27;C&#x27;: [0.1, 1.0, 100.0], &#x27;penalty&#x27;: [&#x27;l2&#x27;],\n",
       "                          &#x27;solver&#x27;: [&#x27;newton-cg&#x27;, &#x27;lbfgs&#x27;, &#x27;liblinear&#x27;, &#x27;sag&#x27;,\n",
       "                                     &#x27;saga&#x27;]}],\n",
       "             scoring=&#x27;f1&#x27;)</pre><b>In a Jupyter environment, please rerun this cell to show the HTML representation or trust the notebook. <br />On GitHub, the HTML representation is unable to render, please try loading this page with nbviewer.org.</b></div><div class=\"sk-container\" hidden><div class=\"sk-item sk-dashed-wrapped\"><div class=\"sk-label-container\"><div class=\"sk-label sk-toggleable\"><input class=\"sk-toggleable__control sk-hidden--visually\" id=\"sk-estimator-id-1\" type=\"checkbox\" ><label for=\"sk-estimator-id-1\" class=\"sk-toggleable__label sk-toggleable__label-arrow\">GridSearchCV</label><div class=\"sk-toggleable__content\"><pre>GridSearchCV(estimator=LogisticRegression(max_iter=1000), n_jobs=-1,\n",
       "             param_grid=[{&#x27;C&#x27;: [0.1, 1.0, 100.0], &#x27;penalty&#x27;: [&#x27;l1&#x27;],\n",
       "                          &#x27;solver&#x27;: [&#x27;liblinear&#x27;, &#x27;saga&#x27;]},\n",
       "                         {&#x27;C&#x27;: [0.1, 1.0, 100.0], &#x27;penalty&#x27;: [&#x27;l2&#x27;],\n",
       "                          &#x27;solver&#x27;: [&#x27;newton-cg&#x27;, &#x27;lbfgs&#x27;, &#x27;liblinear&#x27;, &#x27;sag&#x27;,\n",
       "                                     &#x27;saga&#x27;]}],\n",
       "             scoring=&#x27;f1&#x27;)</pre></div></div></div><div class=\"sk-parallel\"><div class=\"sk-parallel-item\"><div class=\"sk-item\"><div class=\"sk-label-container\"><div class=\"sk-label sk-toggleable\"><input class=\"sk-toggleable__control sk-hidden--visually\" id=\"sk-estimator-id-2\" type=\"checkbox\" ><label for=\"sk-estimator-id-2\" class=\"sk-toggleable__label sk-toggleable__label-arrow\">estimator: LogisticRegression</label><div class=\"sk-toggleable__content\"><pre>LogisticRegression(max_iter=1000)</pre></div></div></div><div class=\"sk-serial\"><div class=\"sk-item\"><div class=\"sk-estimator sk-toggleable\"><input class=\"sk-toggleable__control sk-hidden--visually\" id=\"sk-estimator-id-3\" type=\"checkbox\" ><label for=\"sk-estimator-id-3\" class=\"sk-toggleable__label sk-toggleable__label-arrow\">LogisticRegression</label><div class=\"sk-toggleable__content\"><pre>LogisticRegression(max_iter=1000)</pre></div></div></div></div></div></div></div></div></div></div>"
      ],
      "text/plain": [
       "GridSearchCV(estimator=LogisticRegression(max_iter=1000), n_jobs=-1,\n",
       "             param_grid=[{'C': [0.1, 1.0, 100.0], 'penalty': ['l1'],\n",
       "                          'solver': ['liblinear', 'saga']},\n",
       "                         {'C': [0.1, 1.0, 100.0], 'penalty': ['l2'],\n",
       "                          'solver': ['newton-cg', 'lbfgs', 'liblinear', 'sag',\n",
       "                                     'saga']}],\n",
       "             scoring='f1')"
      ]
     },
     "execution_count": 10,
     "metadata": {},
     "output_type": "execute_result"
    }
   ],
   "source": [
    "# As seen above, the results from training on the oversampled data are much\n",
    "# more favorable than the results from the original data. Although the\n",
    "# precision went down a bit, the recall skyrocketed and the f1 score doubled.\n",
    "# Thus, we'll choose to train on the oversampled data for our logistic\n",
    "# regression model. \n",
    "\n",
    "# Next, we'll want to fine-tune our model to squeeze out as much performance\n",
    "# as we can out of it. For that purpose, we'll once again turn to grid search.\n",
    "# Since this type of model is less brute-force than k-nearest neighbors\n",
    "# (and thus, more computationally efficient), we will opt to use scikit-learn's\n",
    "# GridSearchCV here, so that the candidate models are more rigorously\n",
    "# evaluated through cross-validation.\n",
    "\n",
    "# Instantiate a logistic regression model. Due to the large size\n",
    "# of our dataset, it may take more than the default 100 iterations\n",
    "# for the logistic model to converge. Thus, we increase the\n",
    "# maximum number of iterations before termination.\n",
    "base_logistic_model = LogisticRegression(max_iter=1000)\n",
    "# Define a hyperparameter space to search through. This will\n",
    "# allow the model to find the hyperparameter values that yield\n",
    "# the highest cross-validated score.\n",
    "logistic_parameters = [\n",
    "    {\n",
    "        # Type of regularization\n",
    "        \"penalty\": [\"l1\"], \n",
    "        # Algorithm for locating a local minimum\n",
    "        \"solver\": [\"liblinear\", \"saga\"], \n",
    "        # Inverse strength of the regularization term\n",
    "        \"C\": [0.1, 1.0, 100.0]\n",
    "    },\n",
    "    {\n",
    "        \"penalty\": [\"l2\"], \n",
    "        \"solver\": [\"newton-cg\", \"lbfgs\", \"liblinear\", \"sag\", \"saga\"], \n",
    "        \"C\": [0.1, 1.0, 100.0]\n",
    "    }\n",
    "]\n",
    "# Initialize a grid search object. Make it use f1 score as its performance\n",
    "# metric when comparing models with different hyperparameters. For our\n",
    "# purposes, f1 score is a useful metric to maximize because it represents\n",
    "# the harmonic mean of precision and recall. By maximizing f1 score, then,\n",
    "# we maximize precision and recall simultaneously. In other words, we \n",
    "# minimize the number of false positives and false negatives, while also\n",
    "# maximizing the number of true positives.\n",
    "tuned_logistic_model = GridSearchCV(base_logistic_model, param_grid=logistic_parameters, scoring=\"f1\", n_jobs=-1)\n",
    "# Search the hyperparameter space for the best-performing model on the training data\n",
    "tuned_logistic_model.fit(X_train_oversampled, y_train_oversampled)"
   ]
  },
  {
   "cell_type": "code",
   "execution_count": 11,
   "id": "ee25beb6",
   "metadata": {},
   "outputs": [
    {
     "name": "stdout",
     "output_type": "stream",
     "text": [
      "Best hyperparmaters:  {'C': 0.1, 'penalty': 'l1', 'solver': 'liblinear'}\n",
      "Best training f1 score:  0.767938352434175\n",
      "Test f1 score: 0.349996\n",
      "Test precision: 0.225374\n",
      "Test recall: 0.782909\n",
      "Test accuracy: 0.749937\n"
     ]
    },
    {
     "data": {
      "image/png": "[encoded data removed]",
      "text/plain": [
       "<Figure size 432x288 with 2 Axes>"
      ]
     },
     "metadata": {
      "needs_background": "light"
     },
     "output_type": "display_data"
    }
   ],
   "source": [
    "# Print out the set of hyperparameters that resulted in the model with\n",
    "# highest f1 score, along with that f1 score itself\n",
    "print(\"Best hyperparmaters: \", tuned_logistic_model.best_params_)\n",
    "print(\"Best training f1 score: \", tuned_logistic_model.best_score_)\n",
    "\n",
    "# Use the model to predict labels for our test set, and print out the\n",
    "# performance metrics on that test set\n",
    "y_pred_logistic = tuned_logistic_model.predict(X_test)\n",
    "print(\"Test f1 score: %f\" % f1_score(y_true=y_test, y_pred=y_pred_logistic))\n",
    "print(\"Test precision: %f\" % precision_score(y_true=y_test, y_pred=y_pred_logistic))\n",
    "print(\"Test recall: %f\" % recall_score(y_true=y_test, y_pred=y_pred_logistic))\n",
    "print(\"Test accuracy: %f\" % accuracy_score(y_true=y_test, y_pred=y_pred_logistic))\n",
    "# Finally, plot the confusion matrix for our test set predictions\n",
    "ConfusionMatrixDisplay.from_predictions(y_test, y_pred_logistic)\n",
    "plt.show()"
   ]
  },
  {
   "cell_type": "markdown",
   "id": "cd0f69eb",
   "metadata": {},
   "source": [
    "## Model 3: Support Vector Machine (SVM)"
   ]
  },
  {
   "cell_type": "code",
   "execution_count": 10,
   "id": "c41e8c99",
   "metadata": {},
   "outputs": [
    {
     "name": "stdout",
     "output_type": "stream",
     "text": [
      "Test f1 score: 0.071257\n",
      "Test precision: 0.615385\n",
      "Test recall: 0.037818\n",
      "Test accuracy: 0.915228\n"
     ]
    },
    {
     "data": {
      "image/png": "[encoded data removed]",
      "text/plain": [
       "<Figure size 432x288 with 2 Axes>"
      ]
     },
     "metadata": {
      "needs_background": "light"
     },
     "output_type": "display_data"
    }
   ],
   "source": [
    "# Our next simple model to try out is a Support Vector Machine, usually\n",
    "# abbreviated to SVM. This type of model works by finding a hyperplane\n",
    "# in n-dimensional space which separates our binary data with the largest\n",
    "# margin. Test samples are then classified based on which side of the\n",
    "# hyperplane they land on.\n",
    "\n",
    "# The time complexity for scikit-learn's regular SVC class does not scale\n",
    "# well with increasingly large amounts of training data. Since our dataset\n",
    "# has hundreds of thousands of samples, it would take an infeasible amount\n",
    "# of time to train the regular SVC class. Instead, then, we'll use the\n",
    "# LinearSVC class, which is better optimized for larger datasets. This\n",
    "# means that we will not be able to use nonlinear kernels, but the\n",
    "# training time is much more practical this way.\n",
    "\n",
    "# As with the logistic regression model, we'll first try to train an \n",
    "# SVM model using our original, imbalanced training data. Since SVM\n",
    "# tries to minimize classification error over the entire training set,\n",
    "# we should see reduced performance when training on the original data.\n",
    "\n",
    "svm_model = LinearSVC(max_iter=10000)\n",
    "svm_model.fit(X_train, y_train)\n",
    "y_pred = svm_model.predict(X_test)\n",
    "print(\"Test f1 score: %f\" % f1_score(y_true=y_test, y_pred=y_pred))\n",
    "print(\"Test precision: %f\" % precision_score(y_true=y_test, y_pred=y_pred))\n",
    "print(\"Test recall: %f\" % recall_score(y_true=y_test, y_pred=y_pred))\n",
    "print(\"Test accuracy: %f\" % accuracy_score(y_true=y_test, y_pred=y_pred))\n",
    "ConfusionMatrixDisplay.from_predictions(y_test, y_pred)\n",
    "plt.show()"
   ]
  },
  {
   "cell_type": "code",
   "execution_count": 11,
   "id": "c41e8c99",
   "metadata": {},
   "outputs": [
    {
     "name": "stdout",
     "output_type": "stream",
     "text": [
      "Test f1 score: 0.347819\n",
      "Test precision: 0.223336\n",
      "Test recall: 0.785818\n",
      "Test accuracy: 0.746592\n"
     ]
    },
    {
     "data": {
      "image/png": "[encoded data removed]",
      "text/plain": [
       "<Figure size 432x288 with 2 Axes>"
      ]
     },
     "metadata": {
      "needs_background": "light"
     },
     "output_type": "display_data"
    }
   ],
   "source": [
    "# The results from above give us a baseline to compare against. From\n",
    "# those results, we can see that training on the original data results\n",
    "# in an abysmally low f1 score (in fact, it is the lowest f1 score\n",
    "# we've seen so far). Obviously, we'll need to try something else\n",
    "# in order to remedy this.\n",
    "\n",
    "# Now we can train another SVM model, this time using our oversampled\n",
    "# training data. In theory, training on the augmented data should yield\n",
    "# better results, given the nature of SVM's loss function. However,\n",
    "# we'll train this single model to make sure of that.\n",
    "svm_model = LinearSVC(max_iter=10000)\n",
    "svm_model.fit(X_train_oversampled, y_train_oversampled)\n",
    "y_pred = svm_model.predict(X_test)\n",
    "print(\"Test f1 score: %f\" % f1_score(y_true=y_test, y_pred=y_pred))\n",
    "print(\"Test precision: %f\" % precision_score(y_true=y_test, y_pred=y_pred))\n",
    "print(\"Test recall: %f\" % recall_score(y_true=y_test, y_pred=y_pred))\n",
    "print(\"Test accuracy: %f\" % accuracy_score(y_true=y_test, y_pred=y_pred))\n",
    "ConfusionMatrixDisplay.from_predictions(y_test, y_pred)\n",
    "plt.show()"
   ]
  },
  {
   "cell_type": "code",
   "execution_count": 9,
   "id": "0b0e5216",
   "metadata": {},
   "outputs": [
    {
     "name": "stderr",
     "output_type": "stream",
     "text": [
      "c:\\Python39\\lib\\site-packages\\sklearn\\svm\\_base.py:1225: ConvergenceWarning: Liblinear failed to converge, increase the number of iterations.\n",
      "  warnings.warn(\n"
     ]
    },
    {
     "data": {
      "text/html": [
       "<style>#sk-container-id-1 {color: black;background-color: white;}#sk-container-id-1 pre{padding: 0;}#sk-container-id-1 div.sk-toggleable {background-color: white;}#sk-container-id-1 label.sk-toggleable__label {cursor: pointer;display: block;width: 100%;margin-bottom: 0;padding: 0.3em;box-sizing: border-box;text-align: center;}#sk-container-id-1 label.sk-toggleable__label-arrow:before {content: \"▸\";float: left;margin-right: 0.25em;color: #696969;}#sk-container-id-1 label.sk-toggleable__label-arrow:hover:before {color: black;}#sk-container-id-1 div.sk-estimator:hover label.sk-toggleable__label-arrow:before {color: black;}#sk-container-id-1 div.sk-toggleable__content {max-height: 0;max-width: 0;overflow: hidden;text-align: left;background-color: #f0f8ff;}#sk-container-id-1 div.sk-toggleable__content pre {margin: 0.2em;color: black;border-radius: 0.25em;background-color: #f0f8ff;}#sk-container-id-1 input.sk-toggleable__control:checked~div.sk-toggleable__content {max-height: 200px;max-width: 100%;overflow: auto;}#sk-container-id-1 input.sk-toggleable__control:checked~label.sk-toggleable__label-arrow:before {content: \"▾\";}#sk-container-id-1 div.sk-estimator input.sk-toggleable__control:checked~label.sk-toggleable__label {background-color: #d4ebff;}#sk-container-id-1 div.sk-label input.sk-toggleable__control:checked~label.sk-toggleable__label {background-color: #d4ebff;}#sk-container-id-1 input.sk-hidden--visually {border: 0;clip: rect(1px 1px 1px 1px);clip: rect(1px, 1px, 1px, 1px);height: 1px;margin: -1px;overflow: hidden;padding: 0;position: absolute;width: 1px;}#sk-container-id-1 div.sk-estimator {font-family: monospace;background-color: #f0f8ff;border: 1px dotted black;border-radius: 0.25em;box-sizing: border-box;margin-bottom: 0.5em;}#sk-container-id-1 div.sk-estimator:hover {background-color: #d4ebff;}#sk-container-id-1 div.sk-parallel-item::after {content: \"\";width: 100%;border-bottom: 1px solid gray;flex-grow: 1;}#sk-container-id-1 div.sk-label:hover label.sk-toggleable__label {background-color: #d4ebff;}#sk-container-id-1 div.sk-serial::before {content: \"\";position: absolute;border-left: 1px solid gray;box-sizing: border-box;top: 0;bottom: 0;left: 50%;z-index: 0;}#sk-container-id-1 div.sk-serial {display: flex;flex-direction: column;align-items: center;background-color: white;padding-right: 0.2em;padding-left: 0.2em;position: relative;}#sk-container-id-1 div.sk-item {position: relative;z-index: 1;}#sk-container-id-1 div.sk-parallel {display: flex;align-items: stretch;justify-content: center;background-color: white;position: relative;}#sk-container-id-1 div.sk-item::before, #sk-container-id-1 div.sk-parallel-item::before {content: \"\";position: absolute;border-left: 1px solid gray;box-sizing: border-box;top: 0;bottom: 0;left: 50%;z-index: -1;}#sk-container-id-1 div.sk-parallel-item {display: flex;flex-direction: column;z-index: 1;position: relative;background-color: white;}#sk-container-id-1 div.sk-parallel-item:first-child::after {align-self: flex-end;width: 50%;}#sk-container-id-1 div.sk-parallel-item:last-child::after {align-self: flex-start;width: 50%;}#sk-container-id-1 div.sk-parallel-item:only-child::after {width: 0;}#sk-container-id-1 div.sk-dashed-wrapped {border: 1px dashed gray;margin: 0 0.4em 0.5em 0.4em;box-sizing: border-box;padding-bottom: 0.4em;background-color: white;}#sk-container-id-1 div.sk-label label {font-family: monospace;font-weight: bold;display: inline-block;line-height: 1.2em;}#sk-container-id-1 div.sk-label-container {text-align: center;}#sk-container-id-1 div.sk-container {/* jupyter's `normalize.less` sets `[hidden] { display: none; }` but bootstrap.min.css set `[hidden] { display: none !important; }` so we also need the `!important` here to be able to override the default hidden behavior on the sphinx rendered scikit-learn.org. See: https://github.com/scikit-learn/scikit-learn/issues/21755 */display: inline-block !important;position: relative;}#sk-container-id-1 div.sk-text-repr-fallback {display: none;}</style><div id=\"sk-container-id-1\" class=\"sk-top-container\"><div class=\"sk-text-repr-fallback\"><pre>GridSearchCV(estimator=LinearSVC(), n_jobs=-1,\n",
       "             param_grid=[{&#x27;C&#x27;: [0.1, 1.0, 100.0], &#x27;dual&#x27;: [False],\n",
       "                          &#x27;loss&#x27;: [&#x27;squared_hinge&#x27;], &#x27;penalty&#x27;: [&#x27;l1&#x27;]},\n",
       "                         {&#x27;C&#x27;: [0.1, 1.0, 100.0], &#x27;dual&#x27;: [False, True],\n",
       "                          &#x27;loss&#x27;: [&#x27;squared_hinge&#x27;], &#x27;penalty&#x27;: [&#x27;l2&#x27;]},\n",
       "                         {&#x27;C&#x27;: [0.1, 1.0, 100.0], &#x27;dual&#x27;: [True],\n",
       "                          &#x27;loss&#x27;: [&#x27;hinge&#x27;], &#x27;penalty&#x27;: [&#x27;l2&#x27;]}],\n",
       "             scoring=&#x27;f1&#x27;)</pre><b>In a Jupyter environment, please rerun this cell to show the HTML representation or trust the notebook. <br />On GitHub, the HTML representation is unable to render, please try loading this page with nbviewer.org.</b></div><div class=\"sk-container\" hidden><div class=\"sk-item sk-dashed-wrapped\"><div class=\"sk-label-container\"><div class=\"sk-label sk-toggleable\"><input class=\"sk-toggleable__control sk-hidden--visually\" id=\"sk-estimator-id-1\" type=\"checkbox\" ><label for=\"sk-estimator-id-1\" class=\"sk-toggleable__label sk-toggleable__label-arrow\">GridSearchCV</label><div class=\"sk-toggleable__content\"><pre>GridSearchCV(estimator=LinearSVC(), n_jobs=-1,\n",
       "             param_grid=[{&#x27;C&#x27;: [0.1, 1.0, 100.0], &#x27;dual&#x27;: [False],\n",
       "                          &#x27;loss&#x27;: [&#x27;squared_hinge&#x27;], &#x27;penalty&#x27;: [&#x27;l1&#x27;]},\n",
       "                         {&#x27;C&#x27;: [0.1, 1.0, 100.0], &#x27;dual&#x27;: [False, True],\n",
       "                          &#x27;loss&#x27;: [&#x27;squared_hinge&#x27;], &#x27;penalty&#x27;: [&#x27;l2&#x27;]},\n",
       "                         {&#x27;C&#x27;: [0.1, 1.0, 100.0], &#x27;dual&#x27;: [True],\n",
       "                          &#x27;loss&#x27;: [&#x27;hinge&#x27;], &#x27;penalty&#x27;: [&#x27;l2&#x27;]}],\n",
       "             scoring=&#x27;f1&#x27;)</pre></div></div></div><div class=\"sk-parallel\"><div class=\"sk-parallel-item\"><div class=\"sk-item\"><div class=\"sk-label-container\"><div class=\"sk-label sk-toggleable\"><input class=\"sk-toggleable__control sk-hidden--visually\" id=\"sk-estimator-id-2\" type=\"checkbox\" ><label for=\"sk-estimator-id-2\" class=\"sk-toggleable__label sk-toggleable__label-arrow\">estimator: LinearSVC</label><div class=\"sk-toggleable__content\"><pre>LinearSVC()</pre></div></div></div><div class=\"sk-serial\"><div class=\"sk-item\"><div class=\"sk-estimator sk-toggleable\"><input class=\"sk-toggleable__control sk-hidden--visually\" id=\"sk-estimator-id-3\" type=\"checkbox\" ><label for=\"sk-estimator-id-3\" class=\"sk-toggleable__label sk-toggleable__label-arrow\">LinearSVC</label><div class=\"sk-toggleable__content\"><pre>LinearSVC()</pre></div></div></div></div></div></div></div></div></div></div>"
      ],
      "text/plain": [
       "GridSearchCV(estimator=LinearSVC(), n_jobs=-1,\n",
       "             param_grid=[{'C': [0.1, 1.0, 100.0], 'dual': [False],\n",
       "                          'loss': ['squared_hinge'], 'penalty': ['l1']},\n",
       "                         {'C': [0.1, 1.0, 100.0], 'dual': [False, True],\n",
       "                          'loss': ['squared_hinge'], 'penalty': ['l2']},\n",
       "                         {'C': [0.1, 1.0, 100.0], 'dual': [True],\n",
       "                          'loss': ['hinge'], 'penalty': ['l2']}],\n",
       "             scoring='f1')"
      ]
     },
     "execution_count": 9,
     "metadata": {},
     "output_type": "execute_result"
    }
   ],
   "source": [
    "# From the cell above, we can see that training on the oversampled\n",
    "# data results in markedly better performance when predicting labels\n",
    "# on the test set. The f1 score is now on par with that of our tuned\n",
    "# logistic regression model. Given this, we'll choose to continue\n",
    "# training with the oversampled training data.\n",
    "\n",
    "# We can now do as we've done with the other models and perform a grid\n",
    "# search to find the best hyperparameters for our linear SVM model.\n",
    "base_svm_model = LinearSVC()\n",
    "svm_parameters = [\n",
    "    {\n",
    "        \"penalty\": [\"l1\"],\n",
    "        \"loss\": [\"squared_hinge\"],\n",
    "        \"dual\": [False],\n",
    "        \"C\": [0.1, 1.0, 100.0]\n",
    "    },\n",
    "    {\n",
    "        \"penalty\": [\"l2\"],\n",
    "        \"loss\": [\"squared_hinge\"],\n",
    "        \"dual\": [False, True],\n",
    "        \"C\": [0.1, 1.0, 100.0]\n",
    "    },\n",
    "    {\n",
    "        \"penalty\": [\"l2\"],\n",
    "        \"loss\": [\"hinge\"],\n",
    "        \"dual\": [True],\n",
    "        \"C\": [0.1, 1.0, 100.0]\n",
    "    }\n",
    "]\n",
    "tuned_svm_model = GridSearchCV(base_svm_model, param_grid=svm_parameters, scoring=\"f1\", n_jobs=-1)\n",
    "tuned_svm_model.fit(X_train_oversampled, y_train_oversampled)"
   ]
  },
  {
   "cell_type": "code",
   "execution_count": 10,
   "id": "87cb4c3c",
   "metadata": {},
   "outputs": [
    {
     "name": "stdout",
     "output_type": "stream",
     "text": [
      "Best hyperparmaters:  {'C': 0.1, 'dual': True, 'loss': 'hinge', 'penalty': 'l2'}\n",
      "Best training f1 score:  0.7715733597389903\n",
      "Test f1 score: 0.344611\n",
      "Test precision: 0.219880\n",
      "Test recall: 0.796364\n",
      "Test accuracy: 0.739525\n"
     ]
    },
    {
     "data": {
      "image/png": "[encoded data removed]",
      "text/plain": [
       "<Figure size 432x288 with 2 Axes>"
      ]
     },
     "metadata": {
      "needs_background": "light"
     },
     "output_type": "display_data"
    }
   ],
   "source": [
    "# As with the other models, we now report the best hyperparameters\n",
    "# and the f1 score that the corresponding model was able to achieve\n",
    "print(\"Best hyperparmaters: \", tuned_svm_model.best_params_)\n",
    "print(\"Best training f1 score: \", tuned_svm_model.best_score_)\n",
    "\n",
    "# Finally, we use our tuned SVM to predict test labels, report\n",
    "# performance statistics on the test set, and plot the confusion\n",
    "# matrix\n",
    "y_pred_svm = tuned_svm_model.predict(X_test)\n",
    "print(\"Test f1 score: %f\" % f1_score(y_true=y_test, y_pred=y_pred_svm))\n",
    "print(\"Test precision: %f\" % precision_score(y_true=y_test, y_pred=y_pred_svm))\n",
    "print(\"Test recall: %f\" % recall_score(y_true=y_test, y_pred=y_pred_svm))\n",
    "print(\"Test accuracy: %f\" % accuracy_score(y_true=y_test, y_pred=y_pred_svm))\n",
    "ConfusionMatrixDisplay.from_predictions(y_test, y_pred_svm)\n",
    "plt.show()"
   ]
  },
  {
   "cell_type": "markdown",
   "id": "890562f1",
   "metadata": {},
   "source": [
    "## Model 4: Naive Bayes Classifier"
   ]
  },
  {
   "cell_type": "code",
   "execution_count": 11,
   "id": "e89b5f7b",
   "metadata": {},
   "outputs": [
    {
     "name": "stdout",
     "output_type": "stream",
     "text": [
      "Test f1 score: 0.303116\n",
      "Test precision: 0.338876\n",
      "Test recall: 0.274182\n",
      "Test accuracy: 0.891588\n"
     ]
    },
    {
     "data": {
      "image/png": "[encoded data removed]",
      "text/plain": [
       "<Figure size 432x288 with 2 Axes>"
      ]
     },
     "metadata": {
      "needs_background": "light"
     },
     "output_type": "display_data"
    }
   ],
   "source": [
    "# Our next model to try is a Naive Bayes Classifier. This type of model uses\n",
    "# \"naive\" probabilistic reasoning to predict the likelihood of a test sample\n",
    "# having one label or another.\n",
    "\n",
    "# Since the vast majority of our attributes are binary, we'll try using a \n",
    "# Bernoulli Naive Bayes Classifier, which specifically tries to work with\n",
    "# binary random variables. \n",
    "\n",
    "# This type of classifier ONLY accepts binary attributes, however, so we'll\n",
    "# have to remove the attributes that we applied ordinal encoding to earlier,\n",
    "# as those are essentially categorical variables.\n",
    "X_train_bayes = X_train.drop(columns=[\"AgeCategory_Ordinal\", \"GenHealth_Ordinal\"])\n",
    "X_test_bayes = X_test.drop(columns=[\"AgeCategory_Ordinal\", \"GenHealth_Ordinal\"])\n",
    "\n",
    "# Since BMI is more of a continuous variable than a categorical variable, we\n",
    "# may be able to extract some useful information from it for our Bernoulli\n",
    "# classifier. To convert this continuous variable into a binary variable, we\n",
    "# can simply encode a BMI value as 1 if it is at or above the average BMI from\n",
    "# the training set, or encode it as a 0 if it is below that average BMI.\n",
    "average_bmi = X_train[\"BMI\"].mean()\n",
    "X_train_bayes[\"BMI\"] = X_train_bayes[\"BMI\"].map(lambda a: (0 if a < average_bmi else 1))\n",
    "X_test_bayes[\"BMI\"] = X_test_bayes[\"BMI\"].map(lambda a: (0 if a < average_bmi else 1))\n",
    "\n",
    "# Now we can instantiate a Bernoulli Naive Bayes classifier, fit it to our\n",
    "# training data, use it to predict labels for our test data, and print the\n",
    "# performance metrics for that test data.\n",
    "bayes_model = BernoulliNB(binarize=None)\n",
    "bayes_model.fit(X_train_bayes, y_train)\n",
    "y_pred = bayes_model.predict(X_test_bayes)\n",
    "print(\"Test f1 score: %f\" % f1_score(y_true=y_test, y_pred=y_pred))\n",
    "print(\"Test precision: %f\" % precision_score(y_true=y_test, y_pred=y_pred))\n",
    "print(\"Test recall: %f\" % recall_score(y_true=y_test, y_pred=y_pred))\n",
    "print(\"Test accuracy: %f\" % accuracy_score(y_true=y_test, y_pred=y_pred))\n",
    "ConfusionMatrixDisplay.from_predictions(y_test, y_pred)\n",
    "plt.show()"
   ]
  },
  {
   "cell_type": "code",
   "execution_count": 12,
   "id": "a34fe720",
   "metadata": {},
   "outputs": [
    {
     "name": "stdout",
     "output_type": "stream",
     "text": [
      "Test f1 score: 0.337656\n",
      "Test precision: 0.220575\n",
      "Test recall: 0.719636\n",
      "Test accuracy: 0.757223\n"
     ]
    },
    {
     "data": {
      "image/png": "[encoded data removed]",
      "text/plain": [
       "<Figure size 432x288 with 2 Axes>"
      ]
     },
     "metadata": {
      "needs_background": "light"
     },
     "output_type": "display_data"
    }
   ],
   "source": [
    "# Although the performance of our Bernoulli Naive Bayes Classifier is\n",
    "# respectable compared to our other models, we must keep in mind one of\n",
    "# the main weaknesses of an NB classifier: it performs particularly poorly\n",
    "# on unbalanced datasets. Unfortunately, as previously established, our \n",
    "# dataset is quite unbalanced, with only about 10% of the samples having \n",
    "# heart disease. To remedy this, we could try and train an NB classifier\n",
    "# using our oversampled training data, as we have with the previous two\n",
    "# types of models. However, scikit-learn actually has another type of\n",
    "# NB classifier, known as a Complement Naive Bayes Classifier, which is\n",
    "# designed to improve upon this weakness of traditional NB classifiers.\n",
    "# As such, we'll try to use this Complement NB classifier on our original\n",
    "# training data instead.\n",
    "\n",
    "# In addition to better performance on unbalanced datasets, the Complement\n",
    "# NB classifier also has the advantage of being tolerant to categorical\n",
    "# variables, and not just binary variables. Thus, we can add our ordinally-\n",
    "# encoded attributes back into our datasets. However, we'll still convert\n",
    "# the \"BMI\" attribute into a binary variable, since the NB classifier\n",
    "# still isn't meant to handle continuous variables.\n",
    "X_train_bayes = X_train.copy()\n",
    "X_test_bayes = X_test.copy()\n",
    "X_train_bayes[\"BMI\"] = X_train_bayes[\"BMI\"].map(lambda a: (0 if a < average_bmi else 1))\n",
    "X_test_bayes[\"BMI\"] = X_test_bayes[\"BMI\"].map(lambda a: (0 if a < average_bmi else 1))\n",
    "\n",
    "# Now we can fit and test the Complement NB classifier, as we did with the\n",
    "# Bernoulli classifier.\n",
    "bayes_model = ComplementNB()\n",
    "bayes_model.fit(X_train_bayes, y_train)\n",
    "y_pred = bayes_model.predict(X_test_bayes)\n",
    "print(\"Test f1 score: %f\" % f1_score(y_true=y_test, y_pred=y_pred))\n",
    "print(\"Test precision: %f\" % precision_score(y_true=y_test, y_pred=y_pred))\n",
    "print(\"Test recall: %f\" % recall_score(y_true=y_test, y_pred=y_pred))\n",
    "print(\"Test accuracy: %f\" % accuracy_score(y_true=y_test, y_pred=y_pred))\n",
    "ConfusionMatrixDisplay.from_predictions(y_test, y_pred)\n",
    "plt.show()"
   ]
  },
  {
   "cell_type": "code",
   "execution_count": 13,
   "id": "a1ea5bd8",
   "metadata": {},
   "outputs": [
    {
     "name": "stderr",
     "output_type": "stream",
     "text": [
      "c:\\Python39\\lib\\site-packages\\sklearn\\naive_bayes.py:591: UserWarning: alpha too small will result in numeric errors, setting alpha = 1.0e-10\n",
      "  warnings.warn(\n"
     ]
    },
    {
     "data": {
      "text/html": [
       "<style>#sk-container-id-2 {color: black;background-color: white;}#sk-container-id-2 pre{padding: 0;}#sk-container-id-2 div.sk-toggleable {background-color: white;}#sk-container-id-2 label.sk-toggleable__label {cursor: pointer;display: block;width: 100%;margin-bottom: 0;padding: 0.3em;box-sizing: border-box;text-align: center;}#sk-container-id-2 label.sk-toggleable__label-arrow:before {content: \"▸\";float: left;margin-right: 0.25em;color: #696969;}#sk-container-id-2 label.sk-toggleable__label-arrow:hover:before {color: black;}#sk-container-id-2 div.sk-estimator:hover label.sk-toggleable__label-arrow:before {color: black;}#sk-container-id-2 div.sk-toggleable__content {max-height: 0;max-width: 0;overflow: hidden;text-align: left;background-color: #f0f8ff;}#sk-container-id-2 div.sk-toggleable__content pre {margin: 0.2em;color: black;border-radius: 0.25em;background-color: #f0f8ff;}#sk-container-id-2 input.sk-toggleable__control:checked~div.sk-toggleable__content {max-height: 200px;max-width: 100%;overflow: auto;}#sk-container-id-2 input.sk-toggleable__control:checked~label.sk-toggleable__label-arrow:before {content: \"▾\";}#sk-container-id-2 div.sk-estimator input.sk-toggleable__control:checked~label.sk-toggleable__label {background-color: #d4ebff;}#sk-container-id-2 div.sk-label input.sk-toggleable__control:checked~label.sk-toggleable__label {background-color: #d4ebff;}#sk-container-id-2 input.sk-hidden--visually {border: 0;clip: rect(1px 1px 1px 1px);clip: rect(1px, 1px, 1px, 1px);height: 1px;margin: -1px;overflow: hidden;padding: 0;position: absolute;width: 1px;}#sk-container-id-2 div.sk-estimator {font-family: monospace;background-color: #f0f8ff;border: 1px dotted black;border-radius: 0.25em;box-sizing: border-box;margin-bottom: 0.5em;}#sk-container-id-2 div.sk-estimator:hover {background-color: #d4ebff;}#sk-container-id-2 div.sk-parallel-item::after {content: \"\";width: 100%;border-bottom: 1px solid gray;flex-grow: 1;}#sk-container-id-2 div.sk-label:hover label.sk-toggleable__label {background-color: #d4ebff;}#sk-container-id-2 div.sk-serial::before {content: \"\";position: absolute;border-left: 1px solid gray;box-sizing: border-box;top: 0;bottom: 0;left: 50%;z-index: 0;}#sk-container-id-2 div.sk-serial {display: flex;flex-direction: column;align-items: center;background-color: white;padding-right: 0.2em;padding-left: 0.2em;position: relative;}#sk-container-id-2 div.sk-item {position: relative;z-index: 1;}#sk-container-id-2 div.sk-parallel {display: flex;align-items: stretch;justify-content: center;background-color: white;position: relative;}#sk-container-id-2 div.sk-item::before, #sk-container-id-2 div.sk-parallel-item::before {content: \"\";position: absolute;border-left: 1px solid gray;box-sizing: border-box;top: 0;bottom: 0;left: 50%;z-index: -1;}#sk-container-id-2 div.sk-parallel-item {display: flex;flex-direction: column;z-index: 1;position: relative;background-color: white;}#sk-container-id-2 div.sk-parallel-item:first-child::after {align-self: flex-end;width: 50%;}#sk-container-id-2 div.sk-parallel-item:last-child::after {align-self: flex-start;width: 50%;}#sk-container-id-2 div.sk-parallel-item:only-child::after {width: 0;}#sk-container-id-2 div.sk-dashed-wrapped {border: 1px dashed gray;margin: 0 0.4em 0.5em 0.4em;box-sizing: border-box;padding-bottom: 0.4em;background-color: white;}#sk-container-id-2 div.sk-label label {font-family: monospace;font-weight: bold;display: inline-block;line-height: 1.2em;}#sk-container-id-2 div.sk-label-container {text-align: center;}#sk-container-id-2 div.sk-container {/* jupyter's `normalize.less` sets `[hidden] { display: none; }` but bootstrap.min.css set `[hidden] { display: none !important; }` so we also need the `!important` here to be able to override the default hidden behavior on the sphinx rendered scikit-learn.org. See: https://github.com/scikit-learn/scikit-learn/issues/21755 */display: inline-block !important;position: relative;}#sk-container-id-2 div.sk-text-repr-fallback {display: none;}</style><div id=\"sk-container-id-2\" class=\"sk-top-container\"><div class=\"sk-text-repr-fallback\"><pre>GridSearchCV(estimator=ComplementNB(), n_jobs=-1,\n",
       "             param_grid={&#x27;alpha&#x27;: [0.0, 1.0], &#x27;norm&#x27;: [False, True]},\n",
       "             scoring=&#x27;recall&#x27;)</pre><b>In a Jupyter environment, please rerun this cell to show the HTML representation or trust the notebook. <br />On GitHub, the HTML representation is unable to render, please try loading this page with nbviewer.org.</b></div><div class=\"sk-container\" hidden><div class=\"sk-item sk-dashed-wrapped\"><div class=\"sk-label-container\"><div class=\"sk-label sk-toggleable\"><input class=\"sk-toggleable__control sk-hidden--visually\" id=\"sk-estimator-id-4\" type=\"checkbox\" ><label for=\"sk-estimator-id-4\" class=\"sk-toggleable__label sk-toggleable__label-arrow\">GridSearchCV</label><div class=\"sk-toggleable__content\"><pre>GridSearchCV(estimator=ComplementNB(), n_jobs=-1,\n",
       "             param_grid={&#x27;alpha&#x27;: [0.0, 1.0], &#x27;norm&#x27;: [False, True]},\n",
       "             scoring=&#x27;recall&#x27;)</pre></div></div></div><div class=\"sk-parallel\"><div class=\"sk-parallel-item\"><div class=\"sk-item\"><div class=\"sk-label-container\"><div class=\"sk-label sk-toggleable\"><input class=\"sk-toggleable__control sk-hidden--visually\" id=\"sk-estimator-id-5\" type=\"checkbox\" ><label for=\"sk-estimator-id-5\" class=\"sk-toggleable__label sk-toggleable__label-arrow\">estimator: ComplementNB</label><div class=\"sk-toggleable__content\"><pre>ComplementNB()</pre></div></div></div><div class=\"sk-serial\"><div class=\"sk-item\"><div class=\"sk-estimator sk-toggleable\"><input class=\"sk-toggleable__control sk-hidden--visually\" id=\"sk-estimator-id-6\" type=\"checkbox\" ><label for=\"sk-estimator-id-6\" class=\"sk-toggleable__label sk-toggleable__label-arrow\">ComplementNB</label><div class=\"sk-toggleable__content\"><pre>ComplementNB()</pre></div></div></div></div></div></div></div></div></div></div>"
      ],
      "text/plain": [
       "GridSearchCV(estimator=ComplementNB(), n_jobs=-1,\n",
       "             param_grid={'alpha': [0.0, 1.0], 'norm': [False, True]},\n",
       "             scoring='recall')"
      ]
     },
     "execution_count": 13,
     "metadata": {},
     "output_type": "execute_result"
    }
   ],
   "source": [
    "# As we can see from the above results, the Complement NB classifier\n",
    "# has a tremendously larger recall score than the Bernoulli classifier\n",
    "# (at the expense of accuracy, but alas). We will move forward with\n",
    "# the Complement classifier, since we value recall very highly.\n",
    "\n",
    "# We can now perform a small grid search on the Complement NB classifier\n",
    "# to make sure that we squeeze as much cross-validated performance as\n",
    "# we can out of it.\n",
    "base_bayes_model = ComplementNB()\n",
    "bayes_parameters = {\n",
    "    \"alpha\": [0.0, 1.0],\n",
    "    \"norm\": [False, True]\n",
    "}\n",
    "tuned_bayes_model = GridSearchCV(base_bayes_model, param_grid=bayes_parameters, scoring=\"recall\", n_jobs=-1)\n",
    "tuned_bayes_model.fit(X_train_bayes, y_train)"
   ]
  },
  {
   "cell_type": "code",
   "execution_count": 14,
   "id": "d7e5121b",
   "metadata": {},
   "outputs": [
    {
     "name": "stdout",
     "output_type": "stream",
     "text": [
      "Best hyperparmaters:  {'alpha': 0.0, 'norm': False}\n",
      "Best training f1 score:  0.7195711711414516\n",
      "Test f1 score: 0.337656\n",
      "Test precision: 0.220575\n",
      "Test recall: 0.719636\n",
      "Test accuracy: 0.757223\n"
     ]
    },
    {
     "data": {
      "image/png": "[encoded data removed]",
      "text/plain": [
       "<Figure size 432x288 with 2 Axes>"
      ]
     },
     "metadata": {
      "needs_background": "light"
     },
     "output_type": "display_data"
    }
   ],
   "source": [
    "# Print out the best-performing hyperparameters, and the f1 score\n",
    "# score that they achieved\n",
    "print(\"Best hyperparmaters: \", tuned_bayes_model.best_params_)\n",
    "print(\"Best training f1 score: \", tuned_bayes_model.best_score_)\n",
    "\n",
    "# Predict test labels using our tuned Complement NB classifier\n",
    "y_pred_bayes = tuned_bayes_model.predict(X_test_bayes)\n",
    "# Print out performance statistics on the test set\n",
    "print(\"Test f1 score: %f\" % f1_score(y_true=y_test, y_pred=y_pred_bayes))\n",
    "print(\"Test precision: %f\" % precision_score(y_true=y_test, y_pred=y_pred_bayes))\n",
    "print(\"Test recall: %f\" % recall_score(y_true=y_test, y_pred=y_pred_bayes))\n",
    "print(\"Test accuracy: %f\" % accuracy_score(y_true=y_test, y_pred=y_pred_bayes))\n",
    "# Finally, show the confusion matrix for the test predictions\n",
    "ConfusionMatrixDisplay.from_predictions(y_test, y_pred_bayes)\n",
    "plt.show()"
   ]
  },
  {
   "cell_type": "markdown",
   "id": "18e9a05c",
   "metadata": {},
   "source": [
    "## Model 5: Decision Tree"
   ]
  },
  {
   "cell_type": "code",
   "execution_count": 17,
   "id": "7dfc0ee8",
   "metadata": {},
   "outputs": [
    {
     "name": "stdout",
     "output_type": "stream",
     "text": [
      "Test f1 score: 0.246580\n",
      "Test precision: 0.254349\n",
      "Test recall: 0.239273\n",
      "Test accuracy: 0.874265\n"
     ]
    },
    {
     "data": {
      "image/png": "[encoded data removed]",
      "text/plain": [
       "<Figure size 432x288 with 2 Axes>"
      ]
     },
     "metadata": {
      "needs_background": "light"
     },
     "output_type": "display_data"
    }
   ],
   "source": [
    "# The final simple model we'll use to try and classify our data is a decision\n",
    "# tree. This type of model works by taking a divide-and-conquer approach to\n",
    "# separating and classifying samples. It builds a tree where every node\n",
    "# represents a subset of the training samples. At each of these nodes, one\n",
    "# of the dataset attributes is used to partition the current subset of \n",
    "# samples into two or more smaller subsets. The attribute used to partition\n",
    "# the data at each node of the decision tree is chosen based on how effectively\n",
    "# the attribute will split the current subset of samples. The effectiveness\n",
    "# of a split is usually quantified by information gain or entropy loss.\n",
    "# The tree continues splitting the training data until it reaches a point of\n",
    "# satisfaction (usually determined by hyperparameters), and it then labels\n",
    "# each leaf node with one of the target attribute categories. When a test\n",
    "# sapmle is fed to the classifier, the sample descends down the tree based\n",
    "# on its attribute values, and eventually lands in a leaf node. The label\n",
    "# of that leaf node determines the predicted label of the test sample.\n",
    "\n",
    "# To get a sense of what a decision tree is capable of, we can train one\n",
    "# using the default hyperparameters on our original training set.\n",
    "tree_model = DecisionTreeClassifier(random_state=0)\n",
    "tree_model.fit(X_train, y_train)\n",
    "y_pred = tree_model.predict(X_test)\n",
    "print(\"Test f1 score: %f\" % f1_score(y_true=y_test, y_pred=y_pred))\n",
    "print(\"Test precision: %f\" % precision_score(y_true=y_test, y_pred=y_pred))\n",
    "print(\"Test recall: %f\" % recall_score(y_true=y_test, y_pred=y_pred))\n",
    "print(\"Test accuracy: %f\" % accuracy_score(y_true=y_test, y_pred=y_pred))\n",
    "ConfusionMatrixDisplay.from_predictions(y_test, y_pred)\n",
    "plt.show()"
   ]
  },
  {
   "cell_type": "code",
   "execution_count": 20,
   "id": "5c6d9675",
   "metadata": {},
   "outputs": [
    {
     "name": "stdout",
     "output_type": "stream",
     "text": [
      "Test f1 score: 0.246353\n",
      "Test precision: 0.222222\n",
      "Test recall: 0.276364\n",
      "Test accuracy: 0.854597\n"
     ]
    },
    {
     "data": {
      "image/png": "[encoded data removed]",
      "text/plain": [
       "<Figure size 432x288 with 2 Axes>"
      ]
     },
     "metadata": {
      "needs_background": "light"
     },
     "output_type": "display_data"
    }
   ],
   "source": [
    "# Although the results from above are reasonable, we can try to take this type of model\n",
    "# further by experimenting with the use of a random forest classifier. This type of\n",
    "# classifier works by actually constructing multiple decision trees. Each tree is\n",
    "# constructed using some randomly chosen subset of attributes, and a test sample is\n",
    "# evaluated using all of the decision trees in the forest. Each tree provides one\n",
    "# vote as to what the label of the test sample should be, and the majority vote\n",
    "# is used as the final predicted label.\n",
    "\n",
    "# Because multiple varied trees are constructed and used for evaluation, this type\n",
    "# of classifier should be good for avoiding overfitting. It also has many more\n",
    "# hyperparameters to tune than a single decision tree, so we'll try to use this\n",
    "# model for all of its increased flexibility.\n",
    "\n",
    "# The trees can optionally be constructed using a random subset of the training\n",
    "# data. Because of this feature, we'll try training the random forest using our\n",
    "# oversampled training data, so that each tree is likely to get a somewhat even\n",
    "# distribution of samples with respect to the target attribute.\n",
    "\n",
    "forest_model = RandomForestClassifier(random_state=0, n_jobs=-1)\n",
    "forest_model.fit(X_train_oversampled, y_train_oversampled)\n",
    "y_pred = forest_model.predict(X_test)\n",
    "print(\"Test f1 score: %f\" % f1_score(y_true=y_test, y_pred=y_pred))\n",
    "print(\"Test precision: %f\" % precision_score(y_true=y_test, y_pred=y_pred))\n",
    "print(\"Test recall: %f\" % recall_score(y_true=y_test, y_pred=y_pred))\n",
    "print(\"Test accuracy: %f\" % accuracy_score(y_true=y_test, y_pred=y_pred))\n",
    "ConfusionMatrixDisplay.from_predictions(y_test, y_pred)\n",
    "plt.show()"
   ]
  },
  {
   "cell_type": "code",
   "execution_count": 31,
   "id": "8999a5d0",
   "metadata": {},
   "outputs": [
    {
     "data": {
      "text/html": [
       "<style>#sk-container-id-2 {color: black;background-color: white;}#sk-container-id-2 pre{padding: 0;}#sk-container-id-2 div.sk-toggleable {background-color: white;}#sk-container-id-2 label.sk-toggleable__label {cursor: pointer;display: block;width: 100%;margin-bottom: 0;padding: 0.3em;box-sizing: border-box;text-align: center;}#sk-container-id-2 label.sk-toggleable__label-arrow:before {content: \"▸\";float: left;margin-right: 0.25em;color: #696969;}#sk-container-id-2 label.sk-toggleable__label-arrow:hover:before {color: black;}#sk-container-id-2 div.sk-estimator:hover label.sk-toggleable__label-arrow:before {color: black;}#sk-container-id-2 div.sk-toggleable__content {max-height: 0;max-width: 0;overflow: hidden;text-align: left;background-color: #f0f8ff;}#sk-container-id-2 div.sk-toggleable__content pre {margin: 0.2em;color: black;border-radius: 0.25em;background-color: #f0f8ff;}#sk-container-id-2 input.sk-toggleable__control:checked~div.sk-toggleable__content {max-height: 200px;max-width: 100%;overflow: auto;}#sk-container-id-2 input.sk-toggleable__control:checked~label.sk-toggleable__label-arrow:before {content: \"▾\";}#sk-container-id-2 div.sk-estimator input.sk-toggleable__control:checked~label.sk-toggleable__label {background-color: #d4ebff;}#sk-container-id-2 div.sk-label input.sk-toggleable__control:checked~label.sk-toggleable__label {background-color: #d4ebff;}#sk-container-id-2 input.sk-hidden--visually {border: 0;clip: rect(1px 1px 1px 1px);clip: rect(1px, 1px, 1px, 1px);height: 1px;margin: -1px;overflow: hidden;padding: 0;position: absolute;width: 1px;}#sk-container-id-2 div.sk-estimator {font-family: monospace;background-color: #f0f8ff;border: 1px dotted black;border-radius: 0.25em;box-sizing: border-box;margin-bottom: 0.5em;}#sk-container-id-2 div.sk-estimator:hover {background-color: #d4ebff;}#sk-container-id-2 div.sk-parallel-item::after {content: \"\";width: 100%;border-bottom: 1px solid gray;flex-grow: 1;}#sk-container-id-2 div.sk-label:hover label.sk-toggleable__label {background-color: #d4ebff;}#sk-container-id-2 div.sk-serial::before {content: \"\";position: absolute;border-left: 1px solid gray;box-sizing: border-box;top: 0;bottom: 0;left: 50%;z-index: 0;}#sk-container-id-2 div.sk-serial {display: flex;flex-direction: column;align-items: center;background-color: white;padding-right: 0.2em;padding-left: 0.2em;position: relative;}#sk-container-id-2 div.sk-item {position: relative;z-index: 1;}#sk-container-id-2 div.sk-parallel {display: flex;align-items: stretch;justify-content: center;background-color: white;position: relative;}#sk-container-id-2 div.sk-item::before, #sk-container-id-2 div.sk-parallel-item::before {content: \"\";position: absolute;border-left: 1px solid gray;box-sizing: border-box;top: 0;bottom: 0;left: 50%;z-index: -1;}#sk-container-id-2 div.sk-parallel-item {display: flex;flex-direction: column;z-index: 1;position: relative;background-color: white;}#sk-container-id-2 div.sk-parallel-item:first-child::after {align-self: flex-end;width: 50%;}#sk-container-id-2 div.sk-parallel-item:last-child::after {align-self: flex-start;width: 50%;}#sk-container-id-2 div.sk-parallel-item:only-child::after {width: 0;}#sk-container-id-2 div.sk-dashed-wrapped {border: 1px dashed gray;margin: 0 0.4em 0.5em 0.4em;box-sizing: border-box;padding-bottom: 0.4em;background-color: white;}#sk-container-id-2 div.sk-label label {font-family: monospace;font-weight: bold;display: inline-block;line-height: 1.2em;}#sk-container-id-2 div.sk-label-container {text-align: center;}#sk-container-id-2 div.sk-container {/* jupyter's `normalize.less` sets `[hidden] { display: none; }` but bootstrap.min.css set `[hidden] { display: none !important; }` so we also need the `!important` here to be able to override the default hidden behavior on the sphinx rendered scikit-learn.org. See: https://github.com/scikit-learn/scikit-learn/issues/21755 */display: inline-block !important;position: relative;}#sk-container-id-2 div.sk-text-repr-fallback {display: none;}</style><div id=\"sk-container-id-2\" class=\"sk-top-container\"><div class=\"sk-text-repr-fallback\"><pre>GridSearchCV(estimator=RandomForestClassifier(n_jobs=-1, random_state=0),\n",
       "             n_jobs=-1,\n",
       "             param_grid={&#x27;max_samples&#x27;: [None, 0.5, 0.1],\n",
       "                         &#x27;min_samples_split&#x27;: [2, 0.1, 0.001],\n",
       "                         &#x27;n_estimators&#x27;: [10, 100, 1000]},\n",
       "             scoring=&#x27;f1&#x27;)</pre><b>In a Jupyter environment, please rerun this cell to show the HTML representation or trust the notebook. <br />On GitHub, the HTML representation is unable to render, please try loading this page with nbviewer.org.</b></div><div class=\"sk-container\" hidden><div class=\"sk-item sk-dashed-wrapped\"><div class=\"sk-label-container\"><div class=\"sk-label sk-toggleable\"><input class=\"sk-toggleable__control sk-hidden--visually\" id=\"sk-estimator-id-4\" type=\"checkbox\" ><label for=\"sk-estimator-id-4\" class=\"sk-toggleable__label sk-toggleable__label-arrow\">GridSearchCV</label><div class=\"sk-toggleable__content\"><pre>GridSearchCV(estimator=RandomForestClassifier(n_jobs=-1, random_state=0),\n",
       "             n_jobs=-1,\n",
       "             param_grid={&#x27;max_samples&#x27;: [None, 0.5, 0.1],\n",
       "                         &#x27;min_samples_split&#x27;: [2, 0.1, 0.001],\n",
       "                         &#x27;n_estimators&#x27;: [10, 100, 1000]},\n",
       "             scoring=&#x27;f1&#x27;)</pre></div></div></div><div class=\"sk-parallel\"><div class=\"sk-parallel-item\"><div class=\"sk-item\"><div class=\"sk-label-container\"><div class=\"sk-label sk-toggleable\"><input class=\"sk-toggleable__control sk-hidden--visually\" id=\"sk-estimator-id-5\" type=\"checkbox\" ><label for=\"sk-estimator-id-5\" class=\"sk-toggleable__label sk-toggleable__label-arrow\">estimator: RandomForestClassifier</label><div class=\"sk-toggleable__content\"><pre>RandomForestClassifier(n_jobs=-1, random_state=0)</pre></div></div></div><div class=\"sk-serial\"><div class=\"sk-item\"><div class=\"sk-estimator sk-toggleable\"><input class=\"sk-toggleable__control sk-hidden--visually\" id=\"sk-estimator-id-6\" type=\"checkbox\" ><label for=\"sk-estimator-id-6\" class=\"sk-toggleable__label sk-toggleable__label-arrow\">RandomForestClassifier</label><div class=\"sk-toggleable__content\"><pre>RandomForestClassifier(n_jobs=-1, random_state=0)</pre></div></div></div></div></div></div></div></div></div></div>"
      ],
      "text/plain": [
       "GridSearchCV(estimator=RandomForestClassifier(n_jobs=-1, random_state=0),\n",
       "             n_jobs=-1,\n",
       "             param_grid={'max_samples': [None, 0.5, 0.1],\n",
       "                         'min_samples_split': [2, 0.1, 0.001],\n",
       "                         'n_estimators': [10, 100, 1000]},\n",
       "             scoring='f1')"
      ]
     },
     "execution_count": 31,
     "metadata": {},
     "output_type": "execute_result"
    }
   ],
   "source": [
    "# Although the performance of the random forest is pretty similar to that\n",
    "# of the single decision tree, we will still move forward with the random\n",
    "# forest, because (1) it has increased flexibility, as mentioned before,\n",
    "# and (2) it resulted in a higher amount of true positives, which is\n",
    "# perhaps the single most important quantity in the confusion matrix.\n",
    "\n",
    "# As with our other models, we now perform a grid search to try and find\n",
    "# the hyperparameters that result in the best-performing random forest\n",
    "# classifier.\n",
    "base_forest_model = RandomForestClassifier(random_state=0, n_jobs=-1)\n",
    "forest_parameters = {\n",
    "    \"n_estimators\": [10, 100, 1000],\n",
    "    \"min_samples_split\": [2, 0.1, 0.001],\n",
    "    \"max_samples\": [None, 0.5, 0.1]\n",
    "}\n",
    "tuned_forest_model = GridSearchCV(base_forest_model, param_grid=forest_parameters, scoring=\"f1\", n_jobs=-1)\n",
    "tuned_forest_model.fit(X_train_oversampled, y_train_oversampled)"
   ]
  },
  {
   "cell_type": "code",
   "execution_count": 48,
   "id": "87cb4c3c",
   "metadata": {},
   "outputs": [
    {
     "name": "stdout",
     "output_type": "stream",
     "text": [
      "Best hyperparmaters:  {'max_samples': None, 'min_samples_split': 2, 'n_estimators': 100}\n",
      "Best training f1 score:  0.9488307049805389\n",
      "Test f1 score: 0.246353\n",
      "Test precision: 0.222222\n",
      "Test recall: 0.276364\n",
      "Test accuracy: 0.854597\n"
     ]
    },
    {
     "data": {
      "image/png": "[encoded data removed]",
      "text/plain": [
       "<Figure size 432x288 with 2 Axes>"
      ]
     },
     "metadata": {
      "needs_background": "light"
     },
     "output_type": "display_data"
    }
   ],
   "source": [
    "# Now we can report the best hyperparameters and the f1 score that \n",
    "# the corresponding model was able to achieve\n",
    "print(\"Best hyperparmaters: \", tuned_forest_model.best_params_)\n",
    "print(\"Best training f1 score: \", tuned_forest_model.best_score_)\n",
    "\n",
    "# Finally, we use our tuned model to predict test labels, report\n",
    "# performance statistics on the test set, and plot the confusion\n",
    "# matrix\n",
    "y_pred_forest = tuned_forest_model.predict(X_test)\n",
    "print(\"Test f1 score: %f\" % f1_score(y_true=y_test, y_pred=y_pred_forest))\n",
    "print(\"Test precision: %f\" % precision_score(y_true=y_test, y_pred=y_pred_forest))\n",
    "print(\"Test recall: %f\" % recall_score(y_true=y_test, y_pred=y_pred_forest))\n",
    "print(\"Test accuracy: %f\" % accuracy_score(y_true=y_test, y_pred=y_pred_forest))\n",
    "ConfusionMatrixDisplay.from_predictions(y_test, y_pred_forest)\n",
    "plt.show()"
   ]
  }
 ],
 "metadata": {
  "interpreter": {
   "hash": "81794d4967e6c3204c66dcd87b604927b115b27c00565d3d43f05ba2f3a2cb0d"
  },
  "kernelspec": {
   "display_name": "Python 3.9.5 64-bit",
   "language": "python",
   "name": "python3"
  },
  "language_info": {
   "codemirror_mode": {
    "name": "ipython",
    "version": 3
   },
   "file_extension": ".py",
   "mimetype": "text/x-python",
   "name": "python",
   "nbconvert_exporter": "python",
   "pygments_lexer": "ipython3",
   "version": "3.9.5"
  }
 },
 "nbformat": 4,
 "nbformat_minor": 5
}
