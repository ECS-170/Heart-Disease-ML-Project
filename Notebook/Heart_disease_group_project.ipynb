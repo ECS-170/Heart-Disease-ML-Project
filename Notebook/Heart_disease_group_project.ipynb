{
 "cells": [
  {
   "cell_type": "code",
   "execution_count": 6,
   "id": "066453c4",
   "metadata": {},
   "outputs": [],
   "source": [
    "# All project imports\n",
    "import numpy as np\n",
    "import pandas as pd\n",
    "from sklearn.preprocessing import OrdinalEncoder \n",
    "from sklearn.preprocessing import OneHotEncoder\n",
    "from sklearn.preprocessing import minmax_scale"
   ]
  },
  {
   "cell_type": "code",
   "execution_count": 7,
   "id": "b200e395",
   "metadata": {},
   "outputs": [
    {
     "name": "stdout",
     "output_type": "stream",
     "text": [
      "HeartDisease ->  ['No' 'Yes']\n",
      "BMI ->  [16.6  20.34 26.58 ... 62.42 51.46 46.56]\n",
      "Smoking ->  ['Yes' 'No']\n",
      "AlcoholDrinking ->  ['No' 'Yes']\n",
      "Stroke ->  ['No' 'Yes']\n",
      "PhysicalHealth ->  [ 3.  0. 20. 28.  6. 15.  5. 30.  7.  1.  2. 21.  4. 10. 14. 18.  8. 25.\n",
      " 16. 29. 27. 17. 24. 12. 23. 26. 22. 19.  9. 13. 11.]\n",
      "MentalHealth ->  [30.  0.  2.  5. 15.  8.  4.  3. 10. 14. 20.  1.  7. 24.  9. 28. 16. 12.\n",
      "  6. 25. 17. 18. 21. 29. 22. 13. 23. 27. 26. 11. 19.]\n",
      "DiffWalking ->  ['No' 'Yes']\n",
      "Sex ->  ['Female' 'Male']\n",
      "AgeCategory ->  ['55-59' '80 or older' '65-69' '75-79' '40-44' '70-74' '60-64' '50-54'\n",
      " '45-49' '18-24' '35-39' '30-34' '25-29']\n",
      "Race ->  ['White' 'Black' 'Asian' 'American Indian/Alaskan Native' 'Other'\n",
      " 'Hispanic']\n",
      "Diabetic ->  ['Yes' 'No' 'No, borderline diabetes' 'Yes (during pregnancy)']\n",
      "PhysicalActivity ->  ['Yes' 'No']\n",
      "GenHealth ->  ['Very good' 'Fair' 'Good' 'Poor' 'Excellent']\n",
      "SleepTime ->  [ 5.  7.  8.  6. 12.  4.  9. 10. 15.  3.  2.  1. 16. 18. 14. 20. 11. 13.\n",
      " 17. 24. 19. 21. 22. 23.]\n",
      "Asthma ->  ['Yes' 'No']\n",
      "KidneyDisease ->  ['No' 'Yes']\n",
      "SkinCancer ->  ['Yes' 'No']\n"
     ]
    }
   ],
   "source": [
    "# Load the dataset\n",
    "df = pd.read_csv(\"../Raw_data/heart_2020.csv\")\n",
    "# Drop columns that are not important to the dataset\n",
    "df.drop(columns=[\"PhysicalHealth\", \"MentalHealth\", \"SleepTime\"])\n",
    "# Print the name of each column, as well as the unique values found in each column\n",
    "for column in df:\n",
    "    print(\"%s -> \" % (column), df[column].unique())"
   ]
  },
  {
   "cell_type": "markdown",
   "id": "ee4b9fd4",
   "metadata": {},
   "source": [
    "One-Hot-Encoding Step"
   ]
  },
  {
   "cell_type": "code",
   "execution_count": 11,
   "id": "f5bdd72f",
   "metadata": {},
   "outputs": [
    {
     "name": "stdout",
     "output_type": "stream",
     "text": [
      "['HeartDisease_Yes' 'Smoking_Yes' 'AlcoholDrinking_Yes' 'Stroke_Yes'\n",
      " 'DiffWalking_Yes' 'Sex_Male' 'Race_American Indian/Alaskan Native'\n",
      " 'Race_Asian' 'Race_Black' 'Race_Hispanic' 'Race_Other' 'Race_White'\n",
      " 'Diabetic_No' 'Diabetic_No, borderline diabetes' 'Diabetic_Yes'\n",
      " 'Diabetic_Yes (during pregnancy)' 'PhysicalActivity_Yes' 'Asthma_Yes'\n",
      " 'KidneyDisease_Yes' 'SkinCancer_Yes']\n",
      "        BMI  PhysicalHealth  MentalHealth  SleepTime  AgeCategory_Ordinal  \\\n",
      "0  0.055294             3.0          30.0        5.0                  7.0   \n",
      "\n",
      "   GenHealth_Ordinal  HeartDisease_Yes  Smoking_Yes  AlcoholDrinking_Yes  \\\n",
      "0                3.0               0.0          1.0                  0.0   \n",
      "\n",
      "   Stroke_Yes  ...  Race_Other  Race_White  Diabetic_No  \\\n",
      "0         0.0  ...         0.0         1.0          0.0   \n",
      "\n",
      "   Diabetic_No, borderline diabetes  Diabetic_Yes  \\\n",
      "0                               0.0           1.0   \n",
      "\n",
      "   Diabetic_Yes (during pregnancy)  PhysicalActivity_Yes  Asthma_Yes  \\\n",
      "0                              0.0                   1.0         1.0   \n",
      "\n",
      "   KidneyDisease_Yes  SkinCancer_Yes  \n",
      "0                0.0             1.0  \n",
      "\n",
      "[1 rows x 26 columns]\n"
     ]
    }
   ],
   "source": [
    "# One-hot encode categorical attributes in the dataset\n",
    "\n",
    "# List of all attribute that we wish to one-hot encode or binary encode\n",
    "categorical_attributes = [\"HeartDisease\", \"Smoking\", \"AlcoholDrinking\", \"Stroke\", \"DiffWalking\", \"Sex\", \"Race\", \"Diabetic\", \"PhysicalActivity\", \"Asthma\", \"KidneyDisease\", \"SkinCancer\"]\n",
    "# If an attribute has only two categories, only create one new attribute when encoding it.\n",
    "# Normally, one-hot encoding would create two new attributes for binary categories.\n",
    "encoder = OneHotEncoder(drop=\"if_binary\")\n",
    "# Generate an encoding scheme for the specified columns\n",
    "encoder.fit(df[categorical_attributes])\n",
    "# Print the names of all the new attributes created by the one-hot encoder\n",
    "print(encoder.get_feature_names_out(categorical_attributes))\n",
    "# Replace the categorical columns in the DataFrame with the new, one-hot encoded columns\n",
    "encoded_df = pd.DataFrame(encoder.transform(df[categorical_attributes]).toarray(), columns=encoder.get_feature_names_out(categorical_attributes))\n",
    "df = df.drop(columns=categorical_attributes).join(encoded_df)\n",
    "print(df.head(1))"
   ]
  },
  {
   "cell_type": "markdown",
   "id": "3bb79845",
   "metadata": {},
   "source": [
    "Ordinal Encoding Step"
   ]
  },
  {
   "cell_type": "code",
   "execution_count": 9,
   "id": "d014fddb",
   "metadata": {},
   "outputs": [
    {
     "name": "stdout",
     "output_type": "stream",
     "text": [
      "  HeartDisease   BMI Smoking AlcoholDrinking Stroke  PhysicalHealth  \\\n",
      "0           No  16.6     Yes              No     No             3.0   \n",
      "\n",
      "   MentalHealth DiffWalking     Sex   Race Diabetic PhysicalActivity  \\\n",
      "0          30.0          No  Female  White      Yes              Yes   \n",
      "\n",
      "   SleepTime Asthma KidneyDisease SkinCancer  AgeCategory_Ordinal  \\\n",
      "0        5.0    Yes            No        Yes                  7.0   \n",
      "\n",
      "   GenHealth_Ordinal  \n",
      "0                3.0  \n"
     ]
    }
   ],
   "source": [
    "# Encode categorical attributes that have a logical ordering. Since such an ordering exists,\n",
    "# we can avoid creating extraneous columns by assigning a number to each category, rather than\n",
    "# trying to use a one-hot encoding scheme for them.\n",
    "\n",
    "# There are only two categorical attributes which have a logical ordering\n",
    "categorical_attributes = [\"AgeCategory\", \"GenHealth\"]\n",
    "# List the possible categories for each attribute in their logical order\n",
    "age_categories = [\"18-24\", \"25-29\", \"30-34\", \"35-39\", \"40-44\", \"45-49\", \"50-54\", \"55-59\", \"60-64\", \"65-69\", \"70-74\", \"75-79\", \"80 or older\"]\n",
    "health_categories = [\"Poor\", \"Fair\", \"Good\", \"Very good\", \"Excellent\"]\n",
    "# Create the ordinal encoder and generate the encoding scheme for our DataFrame\n",
    "encoder = OrdinalEncoder(categories=[age_categories, health_categories])\n",
    "encoder.fit(df[categorical_attributes])\n",
    "# Replace the categorical columns in the DataFrame with the new, ordinal-encoded columns\n",
    "encoded_df = pd.DataFrame(encoder.transform(df[categorical_attributes]), columns=[\"AgeCategory_Ordinal\", \"GenHealth_Ordinal\"])\n",
    "df = df.drop(columns=categorical_attributes).join(encoded_df)\n",
    "print(df.head(1))"
   ]
  },
  {
   "cell_type": "markdown",
   "id": "20974893",
   "metadata": {},
   "source": [
    "Standardize BMI column using min-max scaling. Only one column affected."
   ]
  },
  {
   "cell_type": "code",
   "execution_count": 10,
   "id": "2f1c10e6",
   "metadata": {},
   "outputs": [
    {
     "name": "stdout",
     "output_type": "stream",
     "text": [
      "  HeartDisease       BMI Smoking AlcoholDrinking Stroke  PhysicalHealth  \\\n",
      "0           No  0.055294     Yes              No     No             3.0   \n",
      "\n",
      "   MentalHealth DiffWalking     Sex   Race Diabetic PhysicalActivity  \\\n",
      "0          30.0          No  Female  White      Yes              Yes   \n",
      "\n",
      "   SleepTime Asthma KidneyDisease SkinCancer  AgeCategory_Ordinal  \\\n",
      "0        5.0    Yes            No        Yes                  7.0   \n",
      "\n",
      "   GenHealth_Ordinal  \n",
      "0                3.0  \n"
     ]
    }
   ],
   "source": [
    "df[['BMI']] = minmax_scale(df[['BMI']])\n",
    "print(df.head(1))"
   ]
  }
 ],
 "metadata": {
  "kernelspec": {
   "display_name": "Python 3 (ipykernel)",
   "language": "python",
   "name": "python3"
  },
  "language_info": {
   "codemirror_mode": {
    "name": "ipython",
    "version": 3
   },
   "file_extension": ".py",
   "mimetype": "text/x-python",
   "name": "python",
   "nbconvert_exporter": "python",
   "pygments_lexer": "ipython3",
   "version": "3.9.7"
  }
 },
 "nbformat": 4,
 "nbformat_minor": 5
}
