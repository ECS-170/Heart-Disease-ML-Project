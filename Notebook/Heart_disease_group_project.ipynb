{
 "cells": [
  {
   "cell_type": "code",
   "execution_count": 40,
   "id": "066453c4",
   "metadata": {},
   "outputs": [],
   "source": [
    "# All project imports\n",
    "import matplotlib.pyplot as plt\n",
    "import numpy as np\n",
    "import pandas as pd\n",
    "from sklearn.preprocessing import OrdinalEncoder \n",
    "from sklearn.preprocessing import OneHotEncoder\n",
    "from sklearn.preprocessing import minmax_scale\n",
    "from sklearn.model_selection import train_test_split\n",
    "from sklearn.model_selection import GridSearchCV\n",
    "from sklearn.metrics import ConfusionMatrixDisplay\n",
    "from sklearn.metrics import accuracy_score\n",
    "from sklearn.metrics import precision_score\n",
    "from sklearn.metrics import recall_score\n",
    "from sklearn.metrics import f1_score\n",
    "from sklearn.linear_model import LogisticRegression\n",
    "from sklearn.neighbors import KNeighborsClassifier\n",
    "from sklearn.naive_bayes import BernoulliNB\n",
    "from sklearn.naive_bayes import ComplementNB\n",
    "from sklearn.svm import LinearSVC"
   ]
  },
  {
   "cell_type": "code",
   "execution_count": 2,
   "id": "b200e395",
   "metadata": {},
   "outputs": [
    {
     "name": "stdout",
     "output_type": "stream",
     "text": [
      "HeartDisease ->  ['No' 'Yes']\n",
      "BMI ->  [16.6  20.34 26.58 ... 62.42 51.46 46.56]\n",
      "Smoking ->  ['Yes' 'No']\n",
      "AlcoholDrinking ->  ['No' 'Yes']\n",
      "Stroke ->  ['No' 'Yes']\n",
      "DiffWalking ->  ['No' 'Yes']\n",
      "Sex ->  ['Female' 'Male']\n",
      "AgeCategory ->  ['55-59' '80 or older' '65-69' '75-79' '40-44' '70-74' '60-64' '50-54'\n",
      " '45-49' '18-24' '35-39' '30-34' '25-29']\n",
      "Race ->  ['White' 'Black' 'Asian' 'American Indian/Alaskan Native' 'Other'\n",
      " 'Hispanic']\n",
      "Diabetic ->  ['Yes' 'No' 'No, borderline diabetes' 'Yes (during pregnancy)']\n",
      "PhysicalActivity ->  ['Yes' 'No']\n",
      "GenHealth ->  ['Very good' 'Fair' 'Good' 'Poor' 'Excellent']\n",
      "Asthma ->  ['Yes' 'No']\n",
      "KidneyDisease ->  ['No' 'Yes']\n",
      "SkinCancer ->  ['Yes' 'No']\n"
     ]
    }
   ],
   "source": [
    "# Load the dataset\n",
    "df = pd.read_csv(\"../Raw_data/heart_2020.csv\")\n",
    "# Drop columns that are not important to the dataset\n",
    "df.drop(columns=[\"PhysicalHealth\", \"MentalHealth\", \"SleepTime\"], inplace=True)\n",
    "# Print the name of each column, as well as the unique values found in each column\n",
    "for column in df:\n",
    "    print(\"%s -> \" % (column), df[column].unique())"
   ]
  },
  {
   "cell_type": "markdown",
   "id": "ee4b9fd4",
   "metadata": {},
   "source": [
    "One-Hot-Encoding Step"
   ]
  },
  {
   "cell_type": "code",
   "execution_count": 3,
   "id": "f5bdd72f",
   "metadata": {},
   "outputs": [
    {
     "name": "stdout",
     "output_type": "stream",
     "text": [
      "['HeartDisease_Yes' 'Smoking_Yes' 'AlcoholDrinking_Yes' 'Stroke_Yes'\n",
      " 'DiffWalking_Yes' 'Sex_Male' 'Race_American Indian/Alaskan Native'\n",
      " 'Race_Asian' 'Race_Black' 'Race_Hispanic' 'Race_Other' 'Race_White'\n",
      " 'Diabetic_No' 'Diabetic_No, borderline diabetes' 'Diabetic_Yes'\n",
      " 'Diabetic_Yes (during pregnancy)' 'PhysicalActivity_Yes' 'Asthma_Yes'\n",
      " 'KidneyDisease_Yes' 'SkinCancer_Yes']\n",
      "    BMI AgeCategory  GenHealth  HeartDisease_Yes  Smoking_Yes  \\\n",
      "0  16.6       55-59  Very good               0.0          1.0   \n",
      "\n",
      "   AlcoholDrinking_Yes  Stroke_Yes  DiffWalking_Yes  Sex_Male  \\\n",
      "0                  0.0         0.0              0.0       0.0   \n",
      "\n",
      "   Race_American Indian/Alaskan Native  ...  Race_Other  Race_White  \\\n",
      "0                                  0.0  ...         0.0         1.0   \n",
      "\n",
      "   Diabetic_No  Diabetic_No, borderline diabetes  Diabetic_Yes  \\\n",
      "0          0.0                               0.0           1.0   \n",
      "\n",
      "   Diabetic_Yes (during pregnancy)  PhysicalActivity_Yes  Asthma_Yes  \\\n",
      "0                              0.0                   1.0         1.0   \n",
      "\n",
      "   KidneyDisease_Yes  SkinCancer_Yes  \n",
      "0                0.0             1.0  \n",
      "\n",
      "[1 rows x 23 columns]\n"
     ]
    }
   ],
   "source": [
    "# One-hot encode categorical attributes in the dataset\n",
    "\n",
    "# List of all attribute that we wish to one-hot encode or binary encode\n",
    "categorical_attributes = [\"HeartDisease\", \"Smoking\", \"AlcoholDrinking\", \"Stroke\", \"DiffWalking\", \"Sex\", \"Race\", \"Diabetic\", \"PhysicalActivity\", \"Asthma\", \"KidneyDisease\", \"SkinCancer\"]\n",
    "# If an attribute has only two categories, only create one new attribute when encoding it.\n",
    "# Normally, one-hot encoding would create two new attributes for binary categories.\n",
    "encoder = OneHotEncoder(drop=\"if_binary\")\n",
    "# Generate an encoding scheme for the specified columns\n",
    "encoder.fit(df[categorical_attributes])\n",
    "# Print the names of all the new attributes created by the one-hot encoder\n",
    "print(encoder.get_feature_names_out(categorical_attributes))\n",
    "# Replace the categorical columns in the DataFrame with the new, one-hot encoded columns\n",
    "encoded_df = pd.DataFrame(encoder.transform(df[categorical_attributes]).toarray(), columns=encoder.get_feature_names_out(categorical_attributes))\n",
    "df = df.drop(columns=categorical_attributes).join(encoded_df)\n",
    "print(df.head(1))"
   ]
  },
  {
   "cell_type": "markdown",
   "id": "3bb79845",
   "metadata": {},
   "source": [
    "Ordinal Encoding Step"
   ]
  },
  {
   "cell_type": "code",
   "execution_count": 4,
   "id": "d014fddb",
   "metadata": {},
   "outputs": [
    {
     "name": "stdout",
     "output_type": "stream",
     "text": [
      "    BMI  HeartDisease_Yes  Smoking_Yes  AlcoholDrinking_Yes  Stroke_Yes  \\\n",
      "0  16.6               0.0          1.0                  0.0         0.0   \n",
      "\n",
      "   DiffWalking_Yes  Sex_Male  Race_American Indian/Alaskan Native  Race_Asian  \\\n",
      "0              0.0       0.0                                  0.0         0.0   \n",
      "\n",
      "   Race_Black  ...  Diabetic_No  Diabetic_No, borderline diabetes  \\\n",
      "0         0.0  ...          0.0                               0.0   \n",
      "\n",
      "   Diabetic_Yes  Diabetic_Yes (during pregnancy)  PhysicalActivity_Yes  \\\n",
      "0           1.0                              0.0                   1.0   \n",
      "\n",
      "   Asthma_Yes  KidneyDisease_Yes  SkinCancer_Yes  AgeCategory_Ordinal  \\\n",
      "0         1.0                0.0             1.0                  7.0   \n",
      "\n",
      "   GenHealth_Ordinal  \n",
      "0                3.0  \n",
      "\n",
      "[1 rows x 23 columns]\n"
     ]
    }
   ],
   "source": [
    "# Encode categorical attributes that have a logical ordering. Since such an ordering exists,\n",
    "# we can avoid creating extraneous columns by assigning a number to each category, rather than\n",
    "# trying to use a one-hot encoding scheme for them.\n",
    "\n",
    "# There are only two categorical attributes which have a logical ordering\n",
    "categorical_attributes = [\"AgeCategory\", \"GenHealth\"]\n",
    "# List the possible categories for each attribute in their logical order\n",
    "age_categories = [\"18-24\", \"25-29\", \"30-34\", \"35-39\", \"40-44\", \"45-49\", \"50-54\", \"55-59\", \"60-64\", \"65-69\", \"70-74\", \"75-79\", \"80 or older\"]\n",
    "health_categories = [\"Poor\", \"Fair\", \"Good\", \"Very good\", \"Excellent\"]\n",
    "# Create the ordinal encoder and generate the encoding scheme for our DataFrame\n",
    "encoder = OrdinalEncoder(categories=[age_categories, health_categories])\n",
    "encoder.fit(df[categorical_attributes])\n",
    "# Replace the categorical columns in the DataFrame with the new, ordinal-encoded columns\n",
    "encoded_df = pd.DataFrame(encoder.transform(df[categorical_attributes]), columns=[\"AgeCategory_Ordinal\", \"GenHealth_Ordinal\"])\n",
    "df = df.drop(columns=categorical_attributes).join(encoded_df)\n",
    "print(df.head(1))"
   ]
  },
  {
   "cell_type": "markdown",
   "id": "20974893",
   "metadata": {},
   "source": [
    "Standardize BMI column using min-max scaling. Only one column affected."
   ]
  },
  {
   "cell_type": "code",
   "execution_count": 5,
   "id": "2f1c10e6",
   "metadata": {},
   "outputs": [
    {
     "name": "stdout",
     "output_type": "stream",
     "text": [
      "        BMI  HeartDisease_Yes  Smoking_Yes  AlcoholDrinking_Yes  Stroke_Yes  \\\n",
      "0  0.055294               0.0          1.0                  0.0         0.0   \n",
      "\n",
      "   DiffWalking_Yes  Sex_Male  Race_American Indian/Alaskan Native  Race_Asian  \\\n",
      "0              0.0       0.0                                  0.0         0.0   \n",
      "\n",
      "   Race_Black  ...  Diabetic_No  Diabetic_No, borderline diabetes  \\\n",
      "0         0.0  ...          0.0                               0.0   \n",
      "\n",
      "   Diabetic_Yes  Diabetic_Yes (during pregnancy)  PhysicalActivity_Yes  \\\n",
      "0           1.0                              0.0                   1.0   \n",
      "\n",
      "   Asthma_Yes  KidneyDisease_Yes  SkinCancer_Yes  AgeCategory_Ordinal  \\\n",
      "0         1.0                0.0             1.0                  7.0   \n",
      "\n",
      "   GenHealth_Ordinal  \n",
      "0                3.0  \n",
      "\n",
      "[1 rows x 23 columns]\n"
     ]
    }
   ],
   "source": [
    "df[['BMI']] = minmax_scale(df[['BMI']])\n",
    "print(df.head(1))"
   ]
  },
  {
   "cell_type": "markdown",
   "id": "2674bc39",
   "metadata": {},
   "source": [
    "Split the Data"
   ]
  },
  {
   "cell_type": "code",
   "execution_count": 6,
   "id": "32deaffb",
   "metadata": {},
   "outputs": [],
   "source": [
    "# Separate the data into input (X) and output (y)\n",
    "X = df.drop(columns=\"HeartDisease_Yes\")\n",
    "y = df[\"HeartDisease_Yes\"]\n",
    "# Further split the data into training sets and testing sets\n",
    "X_train, X_test, y_train, y_test = train_test_split(X, y, test_size=0.1, random_state=0)"
   ]
  },
  {
   "cell_type": "markdown",
   "id": "0959a448",
   "metadata": {},
   "source": [
    "## Model 1: Logistic Regression"
   ]
  },
  {
   "cell_type": "code",
   "execution_count": 25,
   "id": "98bedbb5",
   "metadata": {},
   "outputs": [
    {
     "data": {
      "text/plain": [
       "GridSearchCV(estimator=LogisticRegression(max_iter=1000), n_jobs=-1,\n",
       "             param_grid=[{'C': [0.1, 1.0, 100.0], 'penalty': ['l1'],\n",
       "                          'solver': ['liblinear', 'saga']},\n",
       "                         {'C': [0.1, 1.0, 100.0], 'penalty': ['l2'],\n",
       "                          'solver': ['newton-cg', 'lbfgs', 'liblinear', 'sag',\n",
       "                                     'saga']}],\n",
       "             scoring='recall')"
      ]
     },
     "execution_count": 25,
     "metadata": {},
     "output_type": "execute_result"
    }
   ],
   "source": [
    "# Instantiate a logistic regression model\n",
    "base_logistic_model = LogisticRegression(max_iter=1000)\n",
    "# Define a hyperparameter space to search through. This will\n",
    "# allow the model to find the hyperparameter values that yield\n",
    "# the highest cross-validated accuracy.\n",
    "logistic_parameters = [\n",
    "    {\n",
    "        \"penalty\": [\"l1\"], \n",
    "        \"solver\": [\"liblinear\", \"saga\"], \n",
    "        \"C\": [0.1, 1.0, 100.0]\n",
    "    },\n",
    "    {\n",
    "        \"penalty\": [\"l2\"], \n",
    "        \"solver\": [\"newton-cg\", \"lbfgs\", \"liblinear\", \"sag\", \"saga\"], \n",
    "        \"C\": [0.1, 1.0, 100.0]\n",
    "    }\n",
    "]\n",
    "# Initialize a grid search object. Make it use recall as its performance\n",
    "# metric when comparing models with different hyperparameters. For our\n",
    "# application, high recall is important because we want as few false\n",
    "# negatives as possible; we do not want our classifier to classify anyone\n",
    "# as not having heart disease when they do, in fact, have heart disease.\n",
    "tuned_logistic_model = GridSearchCV(base_logistic_model, param_grid=logistic_parameters, scoring=\"recall\", n_jobs=-1)\n",
    "# Search the hyperparameter space for the best-performing model on the training data\n",
    "tuned_logistic_model.fit(X_train, y_train)"
   ]
  },
  {
   "cell_type": "code",
   "execution_count": 31,
   "id": "ee25beb6",
   "metadata": {},
   "outputs": [
    {
     "name": "stdout",
     "output_type": "stream",
     "text": [
      "Best hyperparmaters:  {'C': 0.1, 'penalty': 'l2', 'solver': 'liblinear'}\n",
      "Best training recall:  0.11168399262701696\n",
      "Test recall: 0.104364\n",
      "Test accuracy: 0.915072\n"
     ]
    },
    {
     "data": {
      "image/png": "[encoded data removed]",
      "text/plain": [
       "<Figure size 432x288 with 2 Axes>"
      ]
     },
     "metadata": {
      "needs_background": "light"
     },
     "output_type": "display_data"
    },
    {
     "data": {
      "text/plain": [
       "count    21.000000\n",
       "mean      0.111392\n",
       "std       0.000115\n",
       "min       0.111156\n",
       "25%       0.111359\n",
       "50%       0.111440\n",
       "75%       0.111440\n",
       "max       0.111684\n",
       "Name: mean_test_score, dtype: float64"
      ]
     },
     "execution_count": 31,
     "metadata": {},
     "output_type": "execute_result"
    }
   ],
   "source": [
    "print(\"Best hyperparmaters: \", tuned_logistic_model.best_params_)\n",
    "print(\"Best training recall: \", tuned_logistic_model.best_score_)\n",
    "\n",
    "y_pred_logistic = tuned_logistic_model.predict(X_test)\n",
    "print(\"Test recall: %f\" % recall_score(y_true=y_test, y_pred=y_pred_logistic))\n",
    "print(\"Test accuracy: %f\" % accuracy_score(y_true=y_test, y_pred=y_pred_logistic))\n",
    "ConfusionMatrixDisplay.from_predictions(y_test, y_pred_logistic)\n",
    "plt.show()\n",
    "pd.DataFrame(tuned_logistic_model.cv_results_)[\"mean_test_score\"].describe()"
   ]
  },
  {
   "cell_type": "markdown",
   "id": "285f178c",
   "metadata": {},
   "source": [
    "## Model 2: K-Nearest Neighbors"
   ]
  },
  {
   "cell_type": "code",
   "execution_count": 33,
   "id": "bcf96d0c",
   "metadata": {},
   "outputs": [],
   "source": [
    "tuned_neighbors_model = None\n",
    "y_pred_neighbors = None\n",
    "highest_neighbors_recall = -1\n",
    "recall_scores = []\n",
    "k_values = [1, 5, 9]\n",
    "for i in range(len(k_values)):\n",
    "    neighbors_model = KNeighborsClassifier(n_neighbors=k_values[i])\n",
    "    neighbors_model.fit(X_train, y_train)\n",
    "    y_pred = neighbors_model.predict(X_test)\n",
    "    recall = recall_score(y_true=y_test, y_pred=y_pred)\n",
    "    recall_scores.append(recall)\n",
    "    if recall > highest_neighbors_recall:\n",
    "        highest_neighbors_recall = recall\n",
    "        tuned_neighbors_model = neighbors_model\n",
    "        y_pred_neighbors = y_pred"
   ]
  },
  {
   "cell_type": "code",
   "execution_count": 34,
   "id": "de2a0db1",
   "metadata": {},
   "outputs": [
    {
     "name": "stdout",
     "output_type": "stream",
     "text": [
      "Best hyperparmater (k):  1\n",
      "Test recall: 0.230909\n",
      "Test accuracy: 0.868418\n"
     ]
    },
    {
     "data": {
      "image/png": "[encoded data removed]",
      "text/plain": [
       "<Figure size 432x288 with 2 Axes>"
      ]
     },
     "metadata": {
      "needs_background": "light"
     },
     "output_type": "display_data"
    },
    {
     "name": "stdout",
     "output_type": "stream",
     "text": [
      "Recall score for each version of the model:  [0.2309090909090909, 0.1338181818181818, 0.10181818181818182]\n"
     ]
    }
   ],
   "source": [
    "print(\"Best hyperparmater (k): \", k_values[np.argmax(recall_scores)])\n",
    "\n",
    "print(\"Test recall: %f\" % recall_score(y_true=y_test, y_pred=y_pred_neighbors))\n",
    "print(\"Test accuracy: %f\" % accuracy_score(y_true=y_test, y_pred=y_pred_neighbors))\n",
    "ConfusionMatrixDisplay.from_predictions(y_test, y_pred_neighbors)\n",
    "plt.show()\n",
    "print(\"Recall score for each version of the model: \", recall_scores)"
   ]
  },
  {
   "cell_type": "markdown",
   "id": "890562f1",
   "metadata": {},
   "source": [
    "## Model 3: Naive Bayes Classifier"
   ]
  },
  {
   "cell_type": "code",
   "execution_count": 55,
   "id": "e89b5f7b",
   "metadata": {},
   "outputs": [
    {
     "name": "stdout",
     "output_type": "stream",
     "text": [
      "Test recall: 0.000000\n",
      "Test accuracy: 0.914009\n"
     ]
    },
    {
     "name": "stderr",
     "output_type": "stream",
     "text": [
      "c:\\Python39\\lib\\site-packages\\sklearn\\naive_bayes.py:1183: RuntimeWarning: invalid value encountered in log\n",
      "  neg_prob = np.log(1 - np.exp(self.feature_log_prob_))\n"
     ]
    }
   ],
   "source": [
    "average_bmi = X_train[\"BMI\"].mean()\n",
    "X_train_bayes = X_train.copy()\n",
    "X_train_bayes[\"BMI\"] = X_train_bayes[\"BMI\"].map(lambda a: (0 if a < average_bmi else 1))\n",
    "X_test_bayes = X_test.copy()\n",
    "X_test_bayes[\"BMI\"] = X_test_bayes[\"BMI\"].map(lambda a: (0 if a < average_bmi else 1))\n",
    "\n",
    "bayes_model = BernoulliNB(binarize=None)\n",
    "bayes_model.fit(X_train_bayes, y_train)\n",
    "y_pred_bayes = bayes_model.predict(X_test_bayes)\n",
    "print(\"Test recall: %f\" % recall_score(y_true=y_test, y_pred=y_pred_bayes))\n",
    "print(\"Test accuracy: %f\" % accuracy_score(y_true=y_test, y_pred=y_pred_bayes))"
   ]
  },
  {
   "cell_type": "code",
   "execution_count": 56,
   "id": "a34fe720",
   "metadata": {},
   "outputs": [
    {
     "name": "stdout",
     "output_type": "stream",
     "text": [
      "Test recall: 0.719636\n",
      "Test accuracy: 0.757223\n"
     ]
    }
   ],
   "source": [
    "bayes_model = ComplementNB()\n",
    "bayes_model.fit(X_train_bayes, y_train)\n",
    "y_pred_bayes = bayes_model.predict(X_test_bayes)\n",
    "print(\"Test recall: %f\" % recall_score(y_true=y_test, y_pred=y_pred_bayes))\n",
    "print(\"Test accuracy: %f\" % accuracy_score(y_true=y_test, y_pred=y_pred_bayes))"
   ]
  },
  {
   "cell_type": "code",
   "execution_count": 52,
   "id": "a1ea5bd8",
   "metadata": {},
   "outputs": [
    {
     "name": "stderr",
     "output_type": "stream",
     "text": [
      "c:\\Python39\\lib\\site-packages\\sklearn\\naive_bayes.py:555: UserWarning: alpha too small will result in numeric errors, setting alpha = 1.0e-10\n",
      "  warnings.warn(\n"
     ]
    },
    {
     "data": {
      "text/plain": [
       "GridSearchCV(estimator=ComplementNB(), n_jobs=-1,\n",
       "             param_grid={'alpha': [0.0, 1.0], 'norm': [False, True]},\n",
       "             scoring='recall')"
      ]
     },
     "execution_count": 52,
     "metadata": {},
     "output_type": "execute_result"
    }
   ],
   "source": [
    "base_bayes_model = ComplementNB()\n",
    "\n",
    "bayes_parameters = {\n",
    "    \"alpha\": [0.0, 1.0],\n",
    "    \"norm\": [False, True]\n",
    "}\n",
    "tuned_bayes_model = GridSearchCV(base_bayes_model, param_grid=bayes_parameters, scoring=\"recall\", n_jobs=-1)\n",
    "tuned_bayes_model.fit(X_train_bayes, y_train)"
   ]
  },
  {
   "cell_type": "code",
   "execution_count": 57,
   "id": "d7e5121b",
   "metadata": {},
   "outputs": [
    {
     "name": "stdout",
     "output_type": "stream",
     "text": [
      "Best hyperparmaters:  {'alpha': 0.0, 'norm': False}\n",
      "Best training recall:  0.7195711711414516\n",
      "Test recall: 0.719636\n",
      "Test accuracy: 0.757223\n"
     ]
    },
    {
     "data": {
      "image/png": "[encoded data removed]",
      "text/plain": [
       "<Figure size 432x288 with 2 Axes>"
      ]
     },
     "metadata": {
      "needs_background": "light"
     },
     "output_type": "display_data"
    },
    {
     "data": {
      "text/plain": [
       "count    21.000000\n",
       "mean      0.111392\n",
       "std       0.000115\n",
       "min       0.111156\n",
       "25%       0.111359\n",
       "50%       0.111440\n",
       "75%       0.111440\n",
       "max       0.111684\n",
       "Name: mean_test_score, dtype: float64"
      ]
     },
     "execution_count": 57,
     "metadata": {},
     "output_type": "execute_result"
    }
   ],
   "source": [
    "print(\"Best hyperparmaters: \", tuned_bayes_model.best_params_)\n",
    "print(\"Best training recall: \", tuned_bayes_model.best_score_)\n",
    "\n",
    "y_pred_bayes = tuned_bayes_model.predict(X_test_bayes)\n",
    "print(\"Test recall: %f\" % recall_score(y_true=y_test, y_pred=y_pred_bayes))\n",
    "print(\"Test accuracy: %f\" % accuracy_score(y_true=y_test, y_pred=y_pred_bayes))\n",
    "ConfusionMatrixDisplay.from_predictions(y_test, y_pred_bayes)\n",
    "plt.show()\n",
    "pd.DataFrame(tuned_logistic_model.cv_results_)[\"mean_test_score\"].describe()"
   ]
  },
  {
   "cell_type": "markdown",
   "id": "6ecf0a6d",
   "metadata": {},
   "source": [
    "## Model 4: Support Vector Machine (SVM)"
   ]
  },
  {
   "cell_type": "code",
   "execution_count": null,
   "id": "0b0e5216",
   "metadata": {},
   "outputs": [],
   "source": [
    "base_svm_model = LinearSVC()\n",
    "\n",
    "svm_parameters = [\n",
    "    {\n",
    "        \"penalty\": [\"l1\"],\n",
    "        \"loss\": [\"squared_hinge\"],\n",
    "        \"dual\": [False],\n",
    "        \"C\": [0.1, 1.0, 100.0]\n",
    "    },\n",
    "    {\n",
    "        \"penalty\": [\"l2\"],\n",
    "        \"loss\": [\"squared_hinge\"],\n",
    "        \"dual\": [False, True],\n",
    "        \"C\": [0.1, 1.0, 100.0]\n",
    "    },\n",
    "    {\n",
    "        \"penalty\": [\"l2\"],\n",
    "        \"loss\": [\"hinge\"],\n",
    "        \"dual\": [True],\n",
    "        \"C\": [0.1, 1.0, 100.0]\n",
    "    }\n",
    "]\n",
    "tuned_svm_model = GridSearchCV(base_svm_model, param_grid=svm_parameters, scoring=\"recall\", n_jobs=-1)\n",
    "tuned_svm_model.fit(X_train, y_train)"
   ]
  },
  {
   "cell_type": "code",
   "execution_count": 65,
   "id": "87cb4c3c",
   "metadata": {},
   "outputs": [
    {
     "name": "stdout",
     "output_type": "stream",
     "text": [
      "Best hyperparmaters:  {'C': 0.1, 'dual': False, 'loss': 'squared_hinge', 'penalty': 'l1'}\n",
      "Best training recall:  0.0370791853431035\n",
      "Test recall: 0.037818\n",
      "Test accuracy: 0.915228\n"
     ]
    },
    {
     "data": {
      "image/png": "[encoded data removed]",
      "text/plain": [
       "<Figure size 432x288 with 2 Axes>"
      ]
     },
     "metadata": {
      "needs_background": "light"
     },
     "output_type": "display_data"
    },
    {
     "data": {
      "text/plain": [
       "count    9.000000\n",
       "mean     0.033433\n",
       "std      0.010312\n",
       "min      0.005970\n",
       "25%      0.037039\n",
       "50%      0.037039\n",
       "75%      0.037079\n",
       "max      0.037079\n",
       "Name: mean_test_score, dtype: float64"
      ]
     },
     "execution_count": 65,
     "metadata": {},
     "output_type": "execute_result"
    }
   ],
   "source": [
    "print(\"Best hyperparmaters: \", tuned_svm_model.best_params_)\n",
    "print(\"Best training recall: \", tuned_svm_model.best_score_)\n",
    "\n",
    "y_pred_svm = tuned_svm_model.predict(X_test)\n",
    "print(\"Test recall: %f\" % recall_score(y_true=y_test, y_pred=y_pred_svm))\n",
    "print(\"Test accuracy: %f\" % accuracy_score(y_true=y_test, y_pred=y_pred_svm))\n",
    "ConfusionMatrixDisplay.from_predictions(y_test, y_pred_svm)\n",
    "plt.show()\n",
    "pd.DataFrame(tuned_svm_model.cv_results_)[\"mean_test_score\"].describe()"
   ]
  }
 ],
 "metadata": {
  "interpreter": {
   "hash": "81794d4967e6c3204c66dcd87b604927b115b27c00565d3d43f05ba2f3a2cb0d"
  },
  "kernelspec": {
   "display_name": "Python 3.9.5 64-bit",
   "language": "python",
   "name": "python3"
  },
  "language_info": {
   "codemirror_mode": {
    "name": "ipython",
    "version": 3
   },
   "file_extension": ".py",
   "mimetype": "text/x-python",
   "name": "python",
   "nbconvert_exporter": "python",
   "pygments_lexer": "ipython3",
   "version": "3.9.5"
  }
 },
 "nbformat": 4,
 "nbformat_minor": 5
}
