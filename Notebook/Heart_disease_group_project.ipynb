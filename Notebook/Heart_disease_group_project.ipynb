{
 "cells": [
  {
   "cell_type": "code",
   "execution_count": 40,
   "id": "066453c4",
   "metadata": {},
   "outputs": [],
   "source": [
    "# All project imports\n",
    "import matplotlib.pyplot as plt\n",
    "import numpy as np\n",
    "import pandas as pd\n",
    "from sklearn.preprocessing import OrdinalEncoder \n",
    "from sklearn.preprocessing import OneHotEncoder\n",
    "from sklearn.preprocessing import minmax_scale\n",
    "from sklearn.model_selection import train_test_split\n",
    "from sklearn.model_selection import GridSearchCV\n",
    "from sklearn.metrics import ConfusionMatrixDisplay\n",
    "from sklearn.metrics import accuracy_score\n",
    "from sklearn.metrics import recall_score\n",
    "from sklearn.linear_model import LogisticRegression\n",
    "from sklearn.neighbors import KNeighborsClassifier\n",
    "from sklearn.naive_bayes import BernoulliNB\n",
    "from sklearn.naive_bayes import ComplementNB\n",
    "from sklearn.svm import LinearSVC"
   ]
  },
  {
   "cell_type": "code",
   "execution_count": 2,
   "id": "b200e395",
   "metadata": {},
   "outputs": [
    {
     "name": "stdout",
     "output_type": "stream",
     "text": [
      "HeartDisease ->  ['No' 'Yes']\n",
      "BMI ->  [16.6  20.34 26.58 ... 62.42 51.46 46.56]\n",
      "Smoking ->  ['Yes' 'No']\n",
      "AlcoholDrinking ->  ['No' 'Yes']\n",
      "Stroke ->  ['No' 'Yes']\n",
      "DiffWalking ->  ['No' 'Yes']\n",
      "Sex ->  ['Female' 'Male']\n",
      "AgeCategory ->  ['55-59' '80 or older' '65-69' '75-79' '40-44' '70-74' '60-64' '50-54'\n",
      " '45-49' '18-24' '35-39' '30-34' '25-29']\n",
      "Race ->  ['White' 'Black' 'Asian' 'American Indian/Alaskan Native' 'Other'\n",
      " 'Hispanic']\n",
      "Diabetic ->  ['Yes' 'No' 'No, borderline diabetes' 'Yes (during pregnancy)']\n",
      "PhysicalActivity ->  ['Yes' 'No']\n",
      "GenHealth ->  ['Very good' 'Fair' 'Good' 'Poor' 'Excellent']\n",
      "Asthma ->  ['Yes' 'No']\n",
      "KidneyDisease ->  ['No' 'Yes']\n",
      "SkinCancer ->  ['Yes' 'No']\n"
     ]
    }
   ],
   "source": [
    "# Load the dataset\n",
    "df = pd.read_csv(\"../Raw_data/heart_2020.csv\")\n",
    "# Drop columns that are not important to the dataset\n",
    "df.drop(columns=[\"PhysicalHealth\", \"MentalHealth\", \"SleepTime\"], inplace=True)\n",
    "# Print the name of each column, as well as the unique values found in each column\n",
    "for column in df:\n",
    "    print(\"%s -> \" % column, df[column].unique())"
   ]
  },
  {
   "cell_type": "markdown",
   "id": "ee4b9fd4",
   "metadata": {},
   "source": [
    "One-Hot-Encoding Step"
   ]
  },
  {
   "cell_type": "code",
   "execution_count": 3,
   "id": "f5bdd72f",
   "metadata": {},
   "outputs": [
    {
     "name": "stdout",
     "output_type": "stream",
     "text": [
      "['HeartDisease_Yes' 'Smoking_Yes' 'AlcoholDrinking_Yes' 'Stroke_Yes'\n",
      " 'DiffWalking_Yes' 'Sex_Male' 'Race_American Indian/Alaskan Native'\n",
      " 'Race_Asian' 'Race_Black' 'Race_Hispanic' 'Race_Other' 'Race_White'\n",
      " 'Diabetic_No' 'Diabetic_No, borderline diabetes' 'Diabetic_Yes'\n",
      " 'Diabetic_Yes (during pregnancy)' 'PhysicalActivity_Yes' 'Asthma_Yes'\n",
      " 'KidneyDisease_Yes' 'SkinCancer_Yes']\n",
      "    BMI AgeCategory  GenHealth  HeartDisease_Yes  Smoking_Yes  \\\n",
      "0  16.6       55-59  Very good               0.0          1.0   \n",
      "\n",
      "   AlcoholDrinking_Yes  Stroke_Yes  DiffWalking_Yes  Sex_Male  \\\n",
      "0                  0.0         0.0              0.0       0.0   \n",
      "\n",
      "   Race_American Indian/Alaskan Native  ...  Race_Other  Race_White  \\\n",
      "0                                  0.0  ...         0.0         1.0   \n",
      "\n",
      "   Diabetic_No  Diabetic_No, borderline diabetes  Diabetic_Yes  \\\n",
      "0          0.0                               0.0           1.0   \n",
      "\n",
      "   Diabetic_Yes (during pregnancy)  PhysicalActivity_Yes  Asthma_Yes  \\\n",
      "0                              0.0                   1.0         1.0   \n",
      "\n",
      "   KidneyDisease_Yes  SkinCancer_Yes  \n",
      "0                0.0             1.0  \n",
      "\n",
      "[1 rows x 23 columns]\n"
     ]
    }
   ],
   "source": [
    "# One-hot encode categorical attributes in the dataset\n",
    "\n",
    "# List of all attribute that we wish to one-hot encode or binary encode\n",
    "categorical_attributes = [\"HeartDisease\", \"Smoking\", \"AlcoholDrinking\", \"Stroke\", \"DiffWalking\", \"Sex\", \"Race\", \"Diabetic\", \"PhysicalActivity\", \"Asthma\", \"KidneyDisease\", \"SkinCancer\"]\n",
    "# If an attribute has only two categories, only create one new attribute when encoding it.\n",
    "# Normally, one-hot encoding would create two new attributes for binary categories.\n",
    "encoder = OneHotEncoder(drop=\"if_binary\")\n",
    "# Generate an encoding scheme for the specified columns\n",
    "encoder.fit(df[categorical_attributes])\n",
    "# Print the names of all the new attributes created by the one-hot encoder\n",
    "print(encoder.get_feature_names_out(categorical_attributes))\n",
    "# Replace the categorical columns in the DataFrame with the new, one-hot encoded columns\n",
    "encoded_df = pd.DataFrame(encoder.transform(df[categorical_attributes]).toarray(), columns=encoder.get_feature_names_out(categorical_attributes))\n",
    "df = df.drop(columns=categorical_attributes).join(encoded_df)\n",
    "print(df.head(1))"
   ]
  },
  {
   "cell_type": "markdown",
   "id": "3bb79845",
   "metadata": {},
   "source": [
    "Ordinal Encoding Step"
   ]
  },
  {
   "cell_type": "code",
   "execution_count": 4,
   "id": "d014fddb",
   "metadata": {},
   "outputs": [
    {
     "name": "stdout",
     "output_type": "stream",
     "text": [
      "    BMI  HeartDisease_Yes  Smoking_Yes  AlcoholDrinking_Yes  Stroke_Yes  \\\n",
      "0  16.6               0.0          1.0                  0.0         0.0   \n",
      "\n",
      "   DiffWalking_Yes  Sex_Male  Race_American Indian/Alaskan Native  Race_Asian  \\\n",
      "0              0.0       0.0                                  0.0         0.0   \n",
      "\n",
      "   Race_Black  ...  Diabetic_No  Diabetic_No, borderline diabetes  \\\n",
      "0         0.0  ...          0.0                               0.0   \n",
      "\n",
      "   Diabetic_Yes  Diabetic_Yes (during pregnancy)  PhysicalActivity_Yes  \\\n",
      "0           1.0                              0.0                   1.0   \n",
      "\n",
      "   Asthma_Yes  KidneyDisease_Yes  SkinCancer_Yes  AgeCategory_Ordinal  \\\n",
      "0         1.0                0.0             1.0                  7.0   \n",
      "\n",
      "   GenHealth_Ordinal  \n",
      "0                3.0  \n",
      "\n",
      "[1 rows x 23 columns]\n"
     ]
    }
   ],
   "source": [
    "# Encode categorical attributes that have a logical ordering. Since such an ordering exists,\n",
    "# we can avoid creating extraneous columns by assigning a number to each category, rather than\n",
    "# trying to use a one-hot encoding scheme for them.\n",
    "\n",
    "# There are only two categorical attributes which have a logical ordering\n",
    "categorical_attributes = [\"AgeCategory\", \"GenHealth\"]\n",
    "# List the possible categories for each attribute in their logical order\n",
    "age_categories = [\"18-24\", \"25-29\", \"30-34\", \"35-39\", \"40-44\", \"45-49\", \"50-54\", \"55-59\", \"60-64\", \"65-69\", \"70-74\", \"75-79\", \"80 or older\"]\n",
    "health_categories = [\"Poor\", \"Fair\", \"Good\", \"Very good\", \"Excellent\"]\n",
    "# Create the ordinal encoder and generate the encoding scheme for our DataFrame\n",
    "encoder = OrdinalEncoder(categories=[age_categories, health_categories])\n",
    "encoder.fit(df[categorical_attributes])\n",
    "# Replace the categorical columns in the DataFrame with the new, ordinal-encoded columns\n",
    "encoded_df = pd.DataFrame(encoder.transform(df[categorical_attributes]), columns=[\"AgeCategory_Ordinal\", \"GenHealth_Ordinal\"])\n",
    "df = df.drop(columns=categorical_attributes).join(encoded_df)\n",
    "print(df.head(1))"
   ]
  },
  {
   "cell_type": "markdown",
   "id": "20974893",
   "metadata": {},
   "source": [
    "Standardize BMI column using min-max scaling. Only one column affected."
   ]
  },
  {
   "cell_type": "code",
   "execution_count": 5,
   "id": "2f1c10e6",
   "metadata": {},
   "outputs": [
    {
     "name": "stdout",
     "output_type": "stream",
     "text": [
      "        BMI  HeartDisease_Yes  Smoking_Yes  AlcoholDrinking_Yes  Stroke_Yes  \\\n",
      "0  0.055294               0.0          1.0                  0.0         0.0   \n",
      "\n",
      "   DiffWalking_Yes  Sex_Male  Race_American Indian/Alaskan Native  Race_Asian  \\\n",
      "0              0.0       0.0                                  0.0         0.0   \n",
      "\n",
      "   Race_Black  ...  Diabetic_No  Diabetic_No, borderline diabetes  \\\n",
      "0         0.0  ...          0.0                               0.0   \n",
      "\n",
      "   Diabetic_Yes  Diabetic_Yes (during pregnancy)  PhysicalActivity_Yes  \\\n",
      "0           1.0                              0.0                   1.0   \n",
      "\n",
      "   Asthma_Yes  KidneyDisease_Yes  SkinCancer_Yes  AgeCategory_Ordinal  \\\n",
      "0         1.0                0.0             1.0                  7.0   \n",
      "\n",
      "   GenHealth_Ordinal  \n",
      "0                3.0  \n",
      "\n",
      "[1 rows x 23 columns]\n"
     ]
    }
   ],
   "source": [
    "df[['BMI']] = minmax_scale(df[['BMI']])\n",
    "print(df.head(1))"
   ]
  },
  {
   "cell_type": "markdown",
   "id": "2674bc39",
   "metadata": {},
   "source": [
    "Split the Data"
   ]
  },
  {
   "cell_type": "code",
   "execution_count": 6,
   "id": "32deaffb",
   "metadata": {},
   "outputs": [],
   "source": [
    "# Separate the data into input (X) and output (y)\n",
    "X = df.drop(columns=\"HeartDisease_Yes\")\n",
    "y = df[\"HeartDisease_Yes\"]\n",
    "# Further split the data into training sets and testing sets with a 90:10 ratio\n",
    "X_train, X_test, y_train, y_test = train_test_split(X, y, test_size=0.1, random_state=0)"
   ]
  },
  {
   "cell_type": "markdown",
   "id": "f23459e9",
   "metadata": {},
   "source": [
    "## Model 1: K-Nearest Neighbors"
   ]
  },
  {
   "cell_type": "code",
   "execution_count": null,
   "id": "bcf96d0c",
   "metadata": {},
   "outputs": [],
   "source": [
    "# We begin our exploration of simple models by looking at perhaps the most\n",
    "# straightforward classification technique: k-nearest neighbors. With this\n",
    "# method, we treat each sample in our training set as a vector in an\n",
    "# n-dimensional space, where n is the number of attributes in the dataset.\n",
    "# When predicting the label of a test sample, we simply find the k training\n",
    "# samples closest in n-dimensional space to said test sample, and let those\n",
    "# neighbors vote on what the classification should be based on their\n",
    "# own known labels.\n",
    "\n",
    "# Since k (the number of closest neighbors to consider) is a hyperparameter\n",
    "# of our model that can affect performance, we should experiment with different\n",
    "# values of k to find the best-performing one. To accomplish this, we will perform\n",
    "# a manual grid search over a few values of k, and we'll keep the model with\n",
    "# highest recall; we value recall because we seek to reduce the number of\n",
    "# false negatives as much as possible, especially with the medical nature of\n",
    "# our project.\n",
    "\n",
    "# We opt to perform a manual grid search rather than use scikit-learn's\n",
    "# GridSearchCV simply for the sake of saving on computation time. K-nearest\n",
    "# neighbors is quite computationally expensive at prediction time (especially\n",
    "# with a dataset as immense as ours), so the cross-validation that GridSearchCV\n",
    "# performs when evaluating models would take an impractical amount of time\n",
    "# to finish running.\n",
    "\n",
    "# The best-performing model from our grid search will be stored here\n",
    "tuned_neighbors_model = None\n",
    "# The predictions from the best-performing model will be stored here\n",
    "y_pred_neighbors = None\n",
    "# Keep track of the highest recall we've observed thus far\n",
    "highest_neighbors_recall = -1\n",
    "# Keep track of the recall scores for all models\n",
    "recall_scores = []\n",
    "# Define the values of k that we should test. The default number of neighbors\n",
    "# is 5, so we'll try that along with a smaller value and a larger value.\n",
    "k_values = [1, 5, 9]\n",
    "\n",
    "# Test one model with each value of k\n",
    "for k in k_values:\n",
    "    # Create the model and fit it to our training data\n",
    "    neighbors_model = KNeighborsClassifier(n_neighbors=k)\n",
    "    neighbors_model.fit(X_train, y_train)\n",
    "    # Use the model to predict labels for our test set\n",
    "    y_pred = neighbors_model.predict(X_test)\n",
    "    # Calculate and save the model's recall score\n",
    "    recall = recall_score(y_true=y_test, y_pred=y_pred)\n",
    "    recall_scores.append(recall)\n",
    "    # If this model has the highest recall score we've seen so far, save both\n",
    "    # it and its predicted labels\n",
    "    if recall > highest_neighbors_recall:\n",
    "        highest_neighbors_recall = recall\n",
    "        tuned_neighbors_model = neighbors_model\n",
    "        y_pred_neighbors = y_pred"
   ]
  },
  {
   "cell_type": "code",
   "execution_count": 68,
   "id": "de2a0db1",
   "metadata": {},
   "outputs": [
    {
     "name": "stdout",
     "output_type": "stream",
     "text": [
      "Best hyperparmater (k):  1\n",
      "Test recall: 0.230909\n",
      "Test accuracy: 0.868418\n"
     ]
    },
    {
     "data": {
      "image/png": "[encoded data removed]",
      "text/plain": [
       "<Figure size 432x288 with 2 Axes>"
      ]
     },
     "metadata": {
      "needs_background": "light"
     },
     "output_type": "display_data"
    }
   ],
   "source": [
    "# Print the k value that resulted in the best-performing model\n",
    "print(\"Best hyperparmater (k): \", k_values[np.argmax(recall_scores)])\n",
    "# Print the model's recall and accuracy on the test set\n",
    "print(\"Test recall: %f\" % recall_score(y_true=y_test, y_pred=y_pred_neighbors))\n",
    "print(\"Test accuracy: %f\" % accuracy_score(y_true=y_test, y_pred=y_pred_neighbors))\n",
    "# Plot the confusion matrix for the test predictions\n",
    "ConfusionMatrixDisplay.from_predictions(y_test, y_pred_neighbors)\n",
    "plt.show()"
   ]
  },
  {
   "cell_type": "markdown",
   "id": "0959a448",
   "metadata": {},
   "source": [
    "## Model 2: Logistic Regression"
   ]
  },
  {
   "cell_type": "code",
   "execution_count": 25,
   "id": "98bedbb5",
   "metadata": {},
   "outputs": [
    {
     "data": {
      "text/plain": [
       "GridSearchCV(estimator=LogisticRegression(max_iter=1000), n_jobs=-1,\n",
       "             param_grid=[{'C': [0.1, 1.0, 100.0], 'penalty': ['l1'],\n",
       "                          'solver': ['liblinear', 'saga']},\n",
       "                         {'C': [0.1, 1.0, 100.0], 'penalty': ['l2'],\n",
       "                          'solver': ['newton-cg', 'lbfgs', 'liblinear', 'sag',\n",
       "                                     'saga']}],\n",
       "             scoring='recall')"
      ]
     },
     "execution_count": 25,
     "metadata": {},
     "output_type": "execute_result"
    }
   ],
   "source": [
    "# Next, we'll try a model with a slightly more advanced formulation:\n",
    "# logistic regression. The predictor works by taking a weighted sum\n",
    "# (i.e., some linear combination) of a sample's attributes and feeding\n",
    "# that sum into the sigmoid function. The sample is labeled positive or\n",
    "# negative based on whether the sigmoid output is above or below some \n",
    "# threshold. The weights (for the weighted sum) are optimized such that\n",
    "# the classification error is minimized over the training set.\n",
    "\n",
    "# Since this type of model is less brute-force than k-nearest neighbors\n",
    "# (and thus, more computationally efficient), we will opt to use scikit-learn's\n",
    "# GridSearchCV here, so that the candidate models are more rigorously\n",
    "# evaluated through cross-validation.\n",
    "\n",
    "# Instantiate a logistic regression model. Due to the large size\n",
    "# of our dataset, it may take more than the default 100 iterations\n",
    "# for the logistic model to converge. Thus, we increase the\n",
    "# maximum number of iterations before termination.\n",
    "base_logistic_model = LogisticRegression(max_iter=1000)\n",
    "# Define a hyperparameter space to search through. This will\n",
    "# allow the model to find the hyperparameter values that yield\n",
    "# the highest cross-validated score.\n",
    "logistic_parameters = [\n",
    "    {\n",
    "        # Type of regularization\n",
    "        \"penalty\": [\"l1\"], \n",
    "        # Algorithm for locating a local minimum\n",
    "        \"solver\": [\"liblinear\", \"saga\"], \n",
    "        # Inverse strength of the regularization term\n",
    "        \"C\": [0.1, 1.0, 100.0]\n",
    "    },\n",
    "    {\n",
    "        \"penalty\": [\"l2\"], \n",
    "        \"solver\": [\"newton-cg\", \"lbfgs\", \"liblinear\", \"sag\", \"saga\"], \n",
    "        \"C\": [0.1, 1.0, 100.0]\n",
    "    }\n",
    "]\n",
    "# Initialize a grid search object. Make it use recall as its performance\n",
    "# metric when comparing models with different hyperparameters. For our\n",
    "# application, high recall is important because we want as few false\n",
    "# negatives as possible; we do not want our classifier to tell anyone\n",
    "# that they don't have heart disease when they do, in fact, have it.\n",
    "tuned_logistic_model = GridSearchCV(base_logistic_model, param_grid=logistic_parameters, scoring=\"recall\", n_jobs=-1)\n",
    "# Search the hyperparameter space for the best-performing model on the training data\n",
    "tuned_logistic_model.fit(X_train, y_train)"
   ]
  },
  {
   "cell_type": "code",
   "execution_count": 69,
   "id": "ee25beb6",
   "metadata": {},
   "outputs": [
    {
     "name": "stdout",
     "output_type": "stream",
     "text": [
      "Best hyperparmaters:  {'C': 0.1, 'penalty': 'l2', 'solver': 'liblinear'}\n",
      "Best training recall:  0.11168399262701696\n",
      "Test recall: 0.104364\n",
      "Test accuracy: 0.915072\n"
     ]
    },
    {
     "data": {
      "image/png": "[encoded data removed]",
      "text/plain": [
       "<Figure size 432x288 with 2 Axes>"
      ]
     },
     "metadata": {
      "needs_background": "light"
     },
     "output_type": "display_data"
    }
   ],
   "source": [
    "# Print out the set of hyperparameters that resulted in the model with\n",
    "# highest recall score, along with that recall score itself\n",
    "print(\"Best hyperparmaters: \", tuned_logistic_model.best_params_)\n",
    "print(\"Best training recall: \", tuned_logistic_model.best_score_)\n",
    "\n",
    "# Use the model to predict labels for our test set, and print out the\n",
    "# recall and accuracy on that test set\n",
    "y_pred_logistic = tuned_logistic_model.predict(X_test)\n",
    "print(\"Test recall: %f\" % recall_score(y_true=y_test, y_pred=y_pred_logistic))\n",
    "print(\"Test accuracy: %f\" % accuracy_score(y_true=y_test, y_pred=y_pred_logistic))\n",
    "# Finally, plot the confusion matrix for our test set predictions\n",
    "ConfusionMatrixDisplay.from_predictions(y_test, y_pred_logistic)\n",
    "plt.show()"
   ]
  },
  {
   "cell_type": "markdown",
   "id": "890562f1",
   "metadata": {},
   "source": [
    "## Model 3: Naive Bayes Classifier"
   ]
  },
  {
   "cell_type": "code",
   "execution_count": 72,
   "id": "e89b5f7b",
   "metadata": {},
   "outputs": [
    {
     "name": "stdout",
     "output_type": "stream",
     "text": [
      "Test recall: 0.274182\n",
      "Test accuracy: 0.891588\n"
     ]
    }
   ],
   "source": [
    "# Our next model to try is a Naive Bayes Classifier. This type of model uses\n",
    "# \"naive\" probabilistic reasoning to predict the likelihood of a test sample\n",
    "# having one label or another.\n",
    "\n",
    "# Since the vast majority of our attributes are binary, we'll try using a \n",
    "# Bernoulli Naive Bayes Classifier, which specifically tries to work with\n",
    "# binary random variables. \n",
    "\n",
    "# This type of classifier ONLY accepts binary attributes, however, so we'll\n",
    "# have to remove the attributes that we applied ordinal encoding to earlier,\n",
    "# as those are essentially categorical variables.\n",
    "X_train_bayes = X_train.drop(columns=[\"AgeCategory_Ordinal\", \"GenHealth_Ordinal\"])\n",
    "X_test_bayes = X_test.drop(columns=[\"AgeCategory_Ordinal\", \"GenHealth_Ordinal\"])\n",
    "\n",
    "# Since BMI is more of a continuous variable than a categorical variable, we\n",
    "# may be able to extract some useful information from it for our Bernoulli\n",
    "# classifier. To convert this continuous variable into a binary variable, we\n",
    "# can simply encode a BMI value as 1 if it is at or above the average BMI from\n",
    "# the training set, or encode it as a 0 if it is below that average BMI.\n",
    "average_bmi = X_train[\"BMI\"].mean()\n",
    "X_train_bayes[\"BMI\"] = X_train_bayes[\"BMI\"].map(lambda a: (0 if a < average_bmi else 1))\n",
    "X_test_bayes[\"BMI\"] = X_test_bayes[\"BMI\"].map(lambda a: (0 if a < average_bmi else 1))\n",
    "\n",
    "# Now we can instantiate a Bernoulli Naive Bayes classifier, fit it to our\n",
    "# training data, use it to predict labels for our test data, and print the\n",
    "# recall and accuracy for that test data.\n",
    "bayes_model = BernoulliNB(binarize=None)\n",
    "bayes_model.fit(X_train_bayes, y_train)\n",
    "y_pred_bayes = bayes_model.predict(X_test_bayes)\n",
    "print(\"Test recall: %f\" % recall_score(y_true=y_test, y_pred=y_pred_bayes))\n",
    "print(\"Test accuracy: %f\" % accuracy_score(y_true=y_test, y_pred=y_pred_bayes))"
   ]
  },
  {
   "cell_type": "code",
   "execution_count": 74,
   "id": "a34fe720",
   "metadata": {},
   "outputs": [
    {
     "name": "stdout",
     "output_type": "stream",
     "text": [
      "Test recall: 0.719636\n",
      "Test accuracy: 0.757223\n"
     ]
    }
   ],
   "source": [
    "# Although the performance of our Bernoulli Naive Bayes Classifier is\n",
    "# respectable compared to our other models, we must keep in mind one of\n",
    "# the main weaknesses of an NB classifier: it performs particularly poorly\n",
    "# on unbalanced datasets. Unfortunately, our dataset is quite unbalanced,\n",
    "# with only about 10% of the samples having heart disease, and the other\n",
    "# 90% having none. Luckily, we can try out the Complement Naive Bayes\n",
    "# Classifier, which seeks to improve upon this weakness of traditional\n",
    "# NB classifiers.\n",
    "\n",
    "# In addition to better performance on unbalanced datasets, the Complement\n",
    "# NB classifier also has the advantage of being tolerant to categorical\n",
    "# variables, and not just binary variables. Thus, we can add our ordinally-\n",
    "# encoded attributes back into our datasets. However, we'll still convert\n",
    "# the \"BMI\" attribute into a binary variable, since the NB classifier\n",
    "# still isn't meant to handle continuous variables.\n",
    "X_train_bayes = X_train.copy()\n",
    "X_test_bayes = X_test.copy()\n",
    "X_train_bayes[\"BMI\"] = X_train_bayes[\"BMI\"].map(lambda a: (0 if a < average_bmi else 1))\n",
    "X_test_bayes[\"BMI\"] = X_test_bayes[\"BMI\"].map(lambda a: (0 if a < average_bmi else 1))\n",
    "\n",
    "# Now we can fit and test the Complement NB classifier, as we did with the\n",
    "# Bernoulli classifier.\n",
    "bayes_model = ComplementNB()\n",
    "bayes_model.fit(X_train_bayes, y_train)\n",
    "y_pred_bayes = bayes_model.predict(X_test_bayes)\n",
    "print(\"Test recall: %f\" % recall_score(y_true=y_test, y_pred=y_pred_bayes))\n",
    "print(\"Test accuracy: %f\" % accuracy_score(y_true=y_test, y_pred=y_pred_bayes))"
   ]
  },
  {
   "cell_type": "code",
   "execution_count": 75,
   "id": "a1ea5bd8",
   "metadata": {},
   "outputs": [
    {
     "name": "stderr",
     "output_type": "stream",
     "text": [
      "c:\\Python39\\lib\\site-packages\\sklearn\\naive_bayes.py:555: UserWarning: alpha too small will result in numeric errors, setting alpha = 1.0e-10\n",
      "  warnings.warn(\n"
     ]
    },
    {
     "data": {
      "text/plain": [
       "GridSearchCV(estimator=ComplementNB(), n_jobs=-1,\n",
       "             param_grid={'alpha': [0.0, 1.0], 'norm': [False, True]},\n",
       "             scoring='recall')"
      ]
     },
     "execution_count": 75,
     "metadata": {},
     "output_type": "execute_result"
    }
   ],
   "source": [
    "# As we can see from the above results, the Complement NB classifier\n",
    "# has a tremendously larger recall score than the Bernoulli classifier\n",
    "# (at the expense of accuracy, but alas). We will move forward with\n",
    "# the Complement classifier, since we value recall very highly.\n",
    "\n",
    "# We can now perform a small grid search on the Complement NB classifier\n",
    "# to make sure that we squeeze as much cross-validated performance as\n",
    "# we can out of it.\n",
    "base_bayes_model = ComplementNB()\n",
    "bayes_parameters = {\n",
    "    \"alpha\": [0.0, 1.0],\n",
    "    \"norm\": [False, True]\n",
    "}\n",
    "tuned_bayes_model = GridSearchCV(base_bayes_model, param_grid=bayes_parameters, scoring=\"recall\", n_jobs=-1)\n",
    "tuned_bayes_model.fit(X_train_bayes, y_train)"
   ]
  },
  {
   "cell_type": "code",
   "execution_count": 77,
   "id": "d7e5121b",
   "metadata": {},
   "outputs": [
    {
     "name": "stdout",
     "output_type": "stream",
     "text": [
      "Best hyperparmaters:  {'alpha': 0.0, 'norm': False}\n",
      "Best training recall:  0.7195711711414516\n",
      "Test recall: 0.719636\n",
      "Test accuracy: 0.757223\n"
     ]
    },
    {
     "data": {
      "image/png": "[encoded data removed]",
      "text/plain": [
       "<Figure size 432x288 with 2 Axes>"
      ]
     },
     "metadata": {
      "needs_background": "light"
     },
     "output_type": "display_data"
    }
   ],
   "source": [
    "# Print out the best-performing hyperparameters, and the recall\n",
    "# score that they achieved\n",
    "print(\"Best hyperparmaters: \", tuned_bayes_model.best_params_)\n",
    "print(\"Best training recall: \", tuned_bayes_model.best_score_)\n",
    "\n",
    "# Predict test labels using our tuned Complement NB classifier\n",
    "y_pred_bayes = tuned_bayes_model.predict(X_test_bayes)\n",
    "# Print out performance statistics on the test set\n",
    "print(\"Test recall: %f\" % recall_score(y_true=y_test, y_pred=y_pred_bayes))\n",
    "print(\"Test accuracy: %f\" % accuracy_score(y_true=y_test, y_pred=y_pred_bayes))\n",
    "# Finally, show the confusion matrix for the test predictions\n",
    "ConfusionMatrixDisplay.from_predictions(y_test, y_pred_bayes)\n",
    "plt.show()"
   ]
  },
  {
   "cell_type": "markdown",
   "id": "6ecf0a6d",
   "metadata": {},
   "source": [
    "## Model 4: Support Vector Machine (SVM)"
   ]
  },
  {
   "cell_type": "code",
   "execution_count": 66,
   "id": "0b0e5216",
   "metadata": {},
   "outputs": [
    {
     "name": "stderr",
     "output_type": "stream",
     "text": [
      "c:\\Python39\\lib\\site-packages\\sklearn\\svm\\_base.py:1206: ConvergenceWarning: Liblinear failed to converge, increase the number of iterations.\n",
      "  warnings.warn(\n"
     ]
    },
    {
     "data": {
      "text/plain": [
       "GridSearchCV(estimator=LinearSVC(), n_jobs=-1,\n",
       "             param_grid=[{'C': [0.1, 1.0, 100.0], 'dual': [False],\n",
       "                          'loss': ['squared_hinge'], 'penalty': ['l1']},\n",
       "                         {'C': [0.1, 1.0, 100.0], 'dual': [False, True],\n",
       "                          'loss': ['squared_hinge'], 'penalty': ['l2']},\n",
       "                         {'C': [0.1, 1.0, 100.0], 'dual': [True],\n",
       "                          'loss': ['hinge'], 'penalty': ['l2']}],\n",
       "             scoring='recall')"
      ]
     },
     "execution_count": 66,
     "metadata": {},
     "output_type": "execute_result"
    }
   ],
   "source": [
    "# Our final simple model to try out is a Support Vector Machine, usually\n",
    "# abbreviated to SVM. This type of model works by finding a hyperplane\n",
    "# in n-dimensional space which separates our binary data with the largest\n",
    "# margin. Test samples are then classified based on which side of the\n",
    "# hyperplane they land on.\n",
    "\n",
    "# The time complexity for scikit-learn's regular SVC class does not scale\n",
    "# well with increasingly large amounts of training data. Since our dataset\n",
    "# has hundreds of thousands of samples, it would take an infeasible amount\n",
    "# of time to train the regular SVC class. Instead, then, we'll use the\n",
    "# LinearSVC class, which is better optimized for larger datasets. This\n",
    "# means that we will not be able to use nonlinear kernels, but the\n",
    "# training time is much more practical this way.\n",
    "\n",
    "# We can now do as we've done with the other models and perform a grid\n",
    "# search to find the best hyperparameters for our linear SVM model.\n",
    "base_svm_model = LinearSVC()\n",
    "svm_parameters = [\n",
    "    {\n",
    "        \"penalty\": [\"l1\"],\n",
    "        \"loss\": [\"squared_hinge\"],\n",
    "        \"dual\": [False],\n",
    "        \"C\": [0.1, 1.0, 100.0]\n",
    "    },\n",
    "    {\n",
    "        \"penalty\": [\"l2\"],\n",
    "        \"loss\": [\"squared_hinge\"],\n",
    "        \"dual\": [False, True],\n",
    "        \"C\": [0.1, 1.0, 100.0]\n",
    "    },\n",
    "    {\n",
    "        \"penalty\": [\"l2\"],\n",
    "        \"loss\": [\"hinge\"],\n",
    "        \"dual\": [True],\n",
    "        \"C\": [0.1, 1.0, 100.0]\n",
    "    }\n",
    "]\n",
    "tuned_svm_model = GridSearchCV(base_svm_model, param_grid=svm_parameters, scoring=\"recall\", n_jobs=-1)\n",
    "tuned_svm_model.fit(X_train, y_train)"
   ]
  },
  {
   "cell_type": "code",
   "execution_count": 78,
   "id": "87cb4c3c",
   "metadata": {},
   "outputs": [
    {
     "name": "stdout",
     "output_type": "stream",
     "text": [
      "Best hyperparmaters:  {'C': 100.0, 'dual': True, 'loss': 'squared_hinge', 'penalty': 'l2'}\n",
      "Best training recall:  0.053241778587834576\n",
      "Test recall: 0.041091\n",
      "Test accuracy: 0.914978\n"
     ]
    },
    {
     "data": {
      "image/png": "[encoded data removed]",
      "text/plain": [
       "<Figure size 432x288 with 2 Axes>"
      ]
     },
     "metadata": {
      "needs_background": "light"
     },
     "output_type": "display_data"
    }
   ],
   "source": [
    "# As with the other models, we now report the best hyperparameters\n",
    "# and the recall that the corresponding model was able to achieve\n",
    "print(\"Best hyperparmaters: \", tuned_svm_model.best_params_)\n",
    "print(\"Best training recall: \", tuned_svm_model.best_score_)\n",
    "\n",
    "# Finally, we use our tuned SVM to predict test labels, report\n",
    "# performance statistics on the test set, and plot the confusion\n",
    "# matrix\n",
    "y_pred_svm = tuned_svm_model.predict(X_test)\n",
    "print(\"Test recall: %f\" % recall_score(y_true=y_test, y_pred=y_pred_svm))\n",
    "print(\"Test accuracy: %f\" % accuracy_score(y_true=y_test, y_pred=y_pred_svm))\n",
    "ConfusionMatrixDisplay.from_predictions(y_test, y_pred_svm)\n",
    "plt.show()"
   ]
  }
 ],
 "metadata": {
  "interpreter": {
   "hash": "81794d4967e6c3204c66dcd87b604927b115b27c00565d3d43f05ba2f3a2cb0d"
  },
  "kernelspec": {
   "display_name": "Python 3.9.5 64-bit",
   "language": "python",
   "name": "python3"
  },
  "language_info": {
   "codemirror_mode": {
    "name": "ipython",
    "version": 3
   },
   "file_extension": ".py",
   "mimetype": "text/x-python",
   "name": "python",
   "nbconvert_exporter": "python",
   "pygments_lexer": "ipython3",
   "version": "3.9.5"
  }
 },
 "nbformat": 4,
 "nbformat_minor": 5
}
