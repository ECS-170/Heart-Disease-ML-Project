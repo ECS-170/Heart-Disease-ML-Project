{
 "cells": [
  {
   "cell_type": "markdown",
   "metadata": {},
   "source": [
    "Below I have my answers to exercise 3 from HW 1. In exercise 3.2 I used a technique to transform USA and Japan into the binary 0 and 1 for ease of use. I do this in line line 18 specifically."
   ]
  },
  {
   "cell_type": "markdown",
   "metadata": {},
   "source": [
    "## Exercise 3 - Logistic Regression (40 points in total)\n",
    "\n",
    "Now we are going to build a classification model on ``origin`` using all the other 5 attributes. <br >\n",
    "Note that Logistic Regression is a binary classificaiton algorithm.\n",
    "\n",
    "### Exercise 3.1 - Processing and Splitting the Dataset (10 points)\n",
    "In this exercise 3, we only consider those observations where they originate from either \"USA\" or \"Japan\". <br >\n",
    "So please **remove** those observations that originate from \"Europe\". <br >\n",
    "And then, split the data into training and testing set with the ratio of 80:20. <br >\n"
   ]
  },
  {
   "cell_type": "code",
   "execution_count": 1,
   "metadata": {},
   "outputs": [],
   "source": [
    "import seaborn as sns\n",
    "import numpy as np\n",
    "import pandas as pd\n",
    "import matplotlib.pyplot as plt\n",
    "from sklearn.model_selection import cross_val_score\n",
    "from sklearn.model_selection import train_test_split\n",
    "from sklearn.linear_model import LinearRegression\n",
    "from sklearn.metrics import mean_squared_error\n",
    "\n",
    "#drop Europe from the set \n",
    "auto_mpg_df = pd.read_csv(\"auto-mpg.csv\")\n",
    "auto_mpg_df.drop(auto_mpg_df[auto_mpg_df['origin'] == \"Europe\"].index, inplace = True) #another way to drop occurances of a string\n",
    "\n",
    "#split data\n",
    "X = auto_mpg_df[[\"mpg\", \"displacement\", \"horsepower\", \"weight\", \"acceleration\"]].values\n",
    "y = auto_mpg_df[[\"origin\"]].values\n",
    "X_train, X_test, y_train, y_test = train_test_split(X, y, test_size = 0.2)\n"
   ]
  },
  {
   "cell_type": "markdown",
   "metadata": {},
   "source": [
    "### Exercise 3.2 - Logistic Regression (30 points)\n",
    "\n",
    "Using all the other 5 attributes, please build a Logistic Regression model that distinguishes between cars from Japan and cars from the USA. <br >\n",
    "Then, **if we are distinguishing between Japan and Europe this time, how do you think the model performance(in terms of accuracy) will change? Provide your reasoning.** (Hint: Exercise 1)\n",
    "\n",
    "Requirements\n",
    " - Report the testing precision and recall for both regions."
   ]
  },
  {
   "cell_type": "code",
   "execution_count": 2,
   "metadata": {},
   "outputs": [
    {
     "name": "stdout",
     "output_type": "stream",
     "text": [
      "0      USA\n",
      "1      USA\n",
      "2      USA\n",
      "3      USA\n",
      "4      USA\n",
      "      ... \n",
      "386    USA\n",
      "387    USA\n",
      "389    USA\n",
      "390    USA\n",
      "391    USA\n",
      "Name: origin, Length: 324, dtype: object\n",
      "0      0\n",
      "1      0\n",
      "2      0\n",
      "3      0\n",
      "4      0\n",
      "      ..\n",
      "386    0\n",
      "387    0\n",
      "389    0\n",
      "390    0\n",
      "391    0\n",
      "Name: origin, Length: 324, dtype: int64\n",
      "              precision    recall  f1-score   support\n",
      "\n",
      "           0       0.91      0.83      0.87        48\n",
      "           1       0.62      0.76      0.68        17\n",
      "\n",
      "    accuracy                           0.82        65\n",
      "   macro avg       0.76      0.80      0.78        65\n",
      "weighted avg       0.83      0.82      0.82        65\n",
      "\n"
     ]
    }
   ],
   "source": [
    "import seaborn as sns\n",
    "import numpy as np\n",
    "import pandas as pd\n",
    "import matplotlib.pyplot as plt\n",
    "from sklearn.model_selection import train_test_split\n",
    "from sklearn.linear_model import LogisticRegression\n",
    "from sklearn.metrics import classification_report\n",
    "\n",
    "#drop Europe from set\n",
    "auto_mpg_df = pd.read_csv(\"auto-mpg.csv\") #read in csv file\n",
    "auto_mpg_df = auto_mpg_df[auto_mpg_df[\"origin\"].str.contains(\"Europe\")==False] #this drops all occurances of Europe, which was needed in this hw assignment\n",
    "\n",
    "\n",
    "X = auto_mpg_df[[\"mpg\", \"displacement\", \"horsepower\", \"weight\", \"acceleration\"]].values # we define these columns in the dataframe to be x\n",
    "\n",
    "#replace string with binary for easy manipulation\n",
    "print (auto_mpg_df[\"origin\"]) #we can see here that the column orgin has string USA\n",
    "y = auto_mpg_df['origin'].replace({'USA': 0, 'Japan': 1}) #in column origin replace all occurances of USA with 0 and all occurances of Japan with 1\n",
    "print (y) #now we can see USA has been replaced with 0\n",
    "\n",
    "X_train, X_test, y_train, y_test = train_test_split(X, y, test_size = 0.2) #split data\n",
    "\n",
    "#use logistic regression\n",
    "logisticRegr = LogisticRegression()\n",
    "logisticRegr.fit(X_train, y_train)\n",
    "y_pred = logisticRegr.predict(X_test)\n",
    "\n",
    "#print precision and recall\n",
    "print(classification_report(y_test, y_pred))"
   ]
  },
  {
   "cell_type": "markdown",
   "metadata": {},
   "source": []
  }
 ],
 "metadata": {
  "kernelspec": {
   "display_name": "Python 3",
   "language": "python",
   "name": "python3"
  },
  "language_info": {
   "codemirror_mode": {
    "name": "ipython",
    "version": 3
   },
   "file_extension": ".py",
   "mimetype": "text/x-python",
   "name": "python",
   "nbconvert_exporter": "python",
   "pygments_lexer": "ipython3",
   "version": "3.9.7"
  }
 },
 "nbformat": 4,
 "nbformat_minor": 4
}
